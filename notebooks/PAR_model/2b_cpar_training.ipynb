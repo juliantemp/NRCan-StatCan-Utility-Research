{
 "cells": [
  {
   "cell_type": "markdown",
   "id": "2c661ac3-36bd-4660-bbab-9b44c9624dd2",
   "metadata": {},
   "source": [
    "# SDV CPAR model training"
   ]
  },
  {
   "cell_type": "code",
   "execution_count": null,
   "id": "0c066cd0-5222-40d3-af2a-af0bc2957b5a",
   "metadata": {},
   "outputs": [],
   "source": [
    "from datetime import datetime, timedelta"
   ]
  },
  {
   "cell_type": "code",
   "execution_count": null,
   "id": "1a4e0b4c-92b6-44ac-8eec-185000e026f3",
   "metadata": {},
   "outputs": [],
   "source": [
    "import numpy as np"
   ]
  },
  {
   "cell_type": "code",
   "execution_count": null,
   "id": "b455b8b0-3e49-4bf4-89c9-c8d9dc78fd5f",
   "metadata": {},
   "outputs": [],
   "source": [
    "import pandas as pd"
   ]
  },
  {
   "cell_type": "code",
   "execution_count": null,
   "id": "2965868a-c9a3-4354-b9ca-bd7b41e64c54",
   "metadata": {},
   "outputs": [],
   "source": [
    "import sdv\n",
    "from sdv.sequential import PARSynthesizer\n",
    "#from sdv.constraints import Unique"
   ]
  },
  {
   "cell_type": "markdown",
   "id": "b90b70f1-4431-4300-80fc-b375ae6445ee",
   "metadata": {},
   "source": [
    "### Inputs\n",
    "- Number of days or datafilename\n",
    "- Epochs\n",
    "- Peaks (number of max and min values of the time series)\n",
    "- Size of sampled synthetic data\n",
    "- Real data file name"
   ]
  },
  {
   "cell_type": "code",
   "execution_count": null,
   "id": "d46bdbf0-1748-489c-8102-f93dc552d739",
   "metadata": {},
   "outputs": [],
   "source": [
    "days = 1\n",
    "data_dir = \"../\"\n",
    "epochs = 128\n",
    "peaks = 1\n",
    "sample_size = None\n",
    "datafilename = None"
   ]
  },
  {
   "cell_type": "markdown",
   "id": "72a57ce4-67e4-4345-a981-29a895c7c5a7",
   "metadata": {},
   "source": [
    "### Read real data"
   ]
  },
  {
   "cell_type": "code",
   "execution_count": null,
   "id": "8034877b-1549-43f0-8f61-05107716fa26",
   "metadata": {},
   "outputs": [],
   "source": [
    "if datafilename:\n",
    "    real_data = pd.read_csv(datafilename, index_col=0)    \n",
    "else:\n",
    "    real_data = pd.read_csv(f\"{data_dir}real_data_sdv_{days}_days.csv\", index_col=0)\n",
    "\n",
    "if not sample_size:\n",
    "    sample_size = len(real_data.datapoint_id.unique())"
   ]
  },
  {
   "cell_type": "code",
   "execution_count": null,
   "id": "23b2195b-dcc0-43f0-948b-813c3cf2006e",
   "metadata": {},
   "outputs": [],
   "source": [
    "real_data"
   ]
  },
  {
   "cell_type": "markdown",
   "id": "df1ce0b1-849c-4e29-89c0-2edb407318e7",
   "metadata": {},
   "source": [
    "### Add peaks and valleys"
   ]
  },
  {
   "cell_type": "code",
   "execution_count": null,
   "id": "03288f6a-7392-45c7-98a1-00b5ff34e6f1",
   "metadata": {},
   "outputs": [],
   "source": [
    "def pick_peaks(df, count=1):\n",
    "    \"\"\" Select max and min values for each time series and add it to a dataframe along with the timestamp\n",
    "\n",
    "    Parameters\n",
    "    ----------\n",
    "    count : int\n",
    "        The number of max and min values to grab.\n",
    "    \"\"\"\n",
    "    group_timeseries_elec = df[[\"datapoint_id\", \"energy_elec\"]].groupby('datapoint_id', sort=False)\n",
    "    group_timeseries_gas = df[[\"datapoint_id\", \"energy_gas\"]].groupby('datapoint_id', sort=False)\n",
    "\n",
    "    #timeseries_dfs = []\n",
    "    edfp = []\n",
    "    for t in group_timeseries_elec.groups:\n",
    "        ts = group_timeseries_elec.get_group(t)[\"energy_elec\"]#.reset_index(drop=True)\n",
    "        #timeseries_dfs.append(ts)\n",
    "        dfp_ = pd.DataFrame(ts)\n",
    "        dfp_[\"epeak\"] = 0\n",
    "        dfp_[\"iepeak\"] = 0\n",
    "        \n",
    "        for i in range(count):\n",
    "            imaxv, maxv = ts.idxmax(), ts.max()\n",
    "            iminv, minv = ts.idxmin(), ts.min()\n",
    "            dfp_.at[imaxv, \"epeak\"] = maxv\n",
    "            dfp_.at[imaxv, \"iepeak\"] = 1\n",
    "            dfp_.at[iminv, \"epeak\"] = minv\n",
    "            dfp_.at[iminv, \"iepeak\"] = -1\n",
    "            ts = ts.drop(imaxv)\n",
    "            ts = ts.drop(iminv)\n",
    "        edfp.append(dfp_[[\"epeak\", \"iepeak\"]])\n",
    "    edfp = pd.concat(edfp)\n",
    "\n",
    "    gdfp = []\n",
    "    for t in group_timeseries_gas.groups:\n",
    "        ts = group_timeseries_gas.get_group(t)[\"energy_gas\"]#.reset_index(drop=True)\n",
    "        dfp_ = pd.DataFrame(ts)\n",
    "        dfp_[\"gpeak\"] = 0\n",
    "        dfp_[\"igpeak\"] = 0\n",
    "\n",
    "        # dont look for minmax if timeseries is flat or zero\n",
    "        # often there is no gas measurements\n",
    "        if len(ts.unique()) > 2:\n",
    "            for i in range(count):\n",
    "                imaxv, maxv = ts.idxmax(), ts.max()\n",
    "                iminv, minv = ts.idxmin(), ts.min()\n",
    "                dfp_.at[imaxv, \"gpeak\"] = maxv\n",
    "                dfp_.at[imaxv, \"igpeak\"] = 1\n",
    "                dfp_.at[iminv, \"gpeak\"] = minv\n",
    "                dfp_.at[iminv, \"igpeak\"] = -1\n",
    "                ts = ts.drop(imaxv)\n",
    "                ts = ts.drop(iminv)\n",
    "        gdfp.append(dfp_[[\"gpeak\", \"igpeak\"]])\n",
    "    gdfp = pd.concat(gdfp)    \n",
    "    \n",
    "    ndf = pd.concat([df, edfp, gdfp], axis=1)\n",
    "\n",
    "    return ndf[list(ndf.columns[:4])+list(ndf.columns[-4:])+list(ndf.columns[4:-4])].copy()"
   ]
  },
  {
   "cell_type": "code",
   "execution_count": null,
   "id": "d4065c27-77bc-4b94-adc8-7750177988cc",
   "metadata": {},
   "outputs": [],
   "source": [
    "%%time\n",
    "real_data = pick_peaks(real_data, peaks)"
   ]
  },
  {
   "cell_type": "code",
   "execution_count": null,
   "id": "db2c5145-95e5-4a48-8c4c-6a301a00a81f",
   "metadata": {},
   "outputs": [],
   "source": [
    "real_data"
   ]
  },
  {
   "cell_type": "code",
   "execution_count": null,
   "id": "aa45609e-572f-405a-831e-8b97f7cab9d5",
   "metadata": {},
   "outputs": [],
   "source": [
    "real_data.to_csv(f\"real_data_sdv_{days}_days_{peaks}_peaks.csv\")"
   ]
  },
  {
   "cell_type": "markdown",
   "id": "d0c2b746-8ad1-4b58-8328-94d8b2eabdfa",
   "metadata": {},
   "source": [
    "#### Manipulate data to conform SDV data flow\n",
    "- Treat every feature with less than 30 unique elements as string to make it categorical"
   ]
  },
  {
   "cell_type": "code",
   "execution_count": null,
   "id": "cf804081-5662-4eea-9eab-6d639f06ac32",
   "metadata": {},
   "outputs": [],
   "source": [
    "%%time\n",
    "for col, dt in real_data.dtypes[4:].items():\n",
    "    if dt == \"float64\" or dt == \"int64\":\n",
    "        if len(real_data[col].unique()) < 30:\n",
    "            real_data[col] = real_data[[col]].astype(str)"
   ]
  },
  {
   "cell_type": "code",
   "execution_count": null,
   "id": "1130ba61-ff04-4b49-b955-a7f8624b2739",
   "metadata": {},
   "outputs": [],
   "source": [
    "#data_in_df[\":ext_roof_cond\"].unique()"
   ]
  },
  {
   "cell_type": "code",
   "execution_count": null,
   "id": "2f838261-fd84-4d27-93d0-3c14fd42402f",
   "metadata": {},
   "outputs": [],
   "source": [
    "real_data.dtypes"
   ]
  },
  {
   "cell_type": "markdown",
   "id": "ff300291-9f2f-4f07-8bb4-7d8a903e2ce3",
   "metadata": {},
   "source": [
    "### Define and handle metadata"
   ]
  },
  {
   "cell_type": "code",
   "execution_count": null,
   "id": "5a831088-9e8c-4bc4-ba8f-dfa684a6bb26",
   "metadata": {},
   "outputs": [],
   "source": [
    "metadata = sdv.metadata.SingleTableMetadata()"
   ]
  },
  {
   "cell_type": "code",
   "execution_count": null,
   "id": "1ce2d363-6bb1-42e3-ba86-07689d9c50aa",
   "metadata": {},
   "outputs": [],
   "source": [
    "metadata.detect_from_dataframe(real_data)"
   ]
  },
  {
   "cell_type": "code",
   "execution_count": null,
   "id": "ee573d3e-7120-4f53-b953-cbbd597684bc",
   "metadata": {},
   "outputs": [],
   "source": [
    "metadata.visualize()"
   ]
  },
  {
   "cell_type": "markdown",
   "id": "da258d81-e1f8-484f-bf39-cf90d57de3b9",
   "metadata": {},
   "source": [
    "#### Adjusting metadata for timeseries"
   ]
  },
  {
   "cell_type": "code",
   "execution_count": null,
   "id": "9af329e3-1603-4018-a58a-695106313f53",
   "metadata": {},
   "outputs": [],
   "source": [
    "# update metadata for datapoint_id, set to id and hex string to avoid duplications\n",
    "metadata.update_column(column_name='datapoint_id', sdtype='id', regex_format='[0-9a-f]{6}')#, regex='[0-9a-f]{32}')"
   ]
  },
  {
   "cell_type": "code",
   "execution_count": null,
   "id": "4b7f9f22-e1f2-46fe-ab72-f7bee4056274",
   "metadata": {},
   "outputs": [],
   "source": [
    "# Each datapoint_id (unique) holds a timeseries\n",
    "metadata.set_sequence_key(column_name='datapoint_id')"
   ]
  },
  {
   "cell_type": "code",
   "execution_count": null,
   "id": "6e900f3c-8656-420e-ad87-f9c13aca3df4",
   "metadata": {},
   "outputs": [],
   "source": [
    "# The index for timeseries is the Timestamp\n",
    "metadata.set_sequence_index(column_name='Timestamp')"
   ]
  },
  {
   "cell_type": "code",
   "execution_count": null,
   "id": "75e9d617-88a4-44b2-a0e5-efd7177d59b0",
   "metadata": {},
   "outputs": [],
   "source": [
    "metadata.visualize()"
   ]
  },
  {
   "cell_type": "code",
   "execution_count": null,
   "id": "5bd86354-6493-41bb-965b-765e528b238f",
   "metadata": {},
   "outputs": [],
   "source": [
    "metadata.to_dict()"
   ]
  },
  {
   "cell_type": "markdown",
   "id": "1016c474-fed2-48c0-a998-731423c2a877",
   "metadata": {},
   "source": [
    "#### Adapt the input data to the model\n",
    "- Set context columns (features)"
   ]
  },
  {
   "cell_type": "code",
   "execution_count": null,
   "id": "9a29f0dc-ff73-4ae5-b7a7-67f7c162fdf3",
   "metadata": {},
   "outputs": [],
   "source": [
    "context_cols = list(set(real_data.columns)-set(['datapoint_id', 'Timestamp',\n",
    "                                                'energy_elec', 'energy_gas',\n",
    "                                                'epeak', 'iepeak',\n",
    "                                                'gpeak', 'igpeak']))\n",
    "#-set([':datapoint_id', 'datapoint_id', 'Timestamp', 'energy_elec', 'energy_gas', 'Total Energy', 'bldg_conditioned_floor_area_m_sq']))"
   ]
  },
  {
   "cell_type": "code",
   "execution_count": null,
   "id": "16384d15-076f-44b5-80ff-b69c10b1c74d",
   "metadata": {},
   "outputs": [],
   "source": [
    "context_cols"
   ]
  },
  {
   "cell_type": "markdown",
   "id": "3431cca9-b4f4-4faf-a3ac-2a4f1c73ffc8",
   "metadata": {},
   "source": [
    "## Fit synthesizer"
   ]
  },
  {
   "cell_type": "code",
   "execution_count": null,
   "id": "7efb360a-f11d-445f-8ff4-80ca01800919",
   "metadata": {},
   "outputs": [],
   "source": [
    "#epochs = 10"
   ]
  },
  {
   "cell_type": "code",
   "execution_count": null,
   "id": "c36dfb8b-ef6a-44d0-a751-48d163384513",
   "metadata": {},
   "outputs": [],
   "source": [
    "synthesizer = PARSynthesizer(\n",
    "    metadata,\n",
    "    context_columns=context_cols,\n",
    "    verbose=True,\n",
    "    epochs=epochs)\n",
    "    #segment_size=7)#128"
   ]
  },
  {
   "cell_type": "markdown",
   "id": "deda355d-07e8-44a5-9ed4-1dde2c1184dd",
   "metadata": {},
   "source": [
    "|days| RAM| VRAM| Epochs|Fit| Gen|\n",
    "|---|---|---|---|---|---|\n",
    "|1|~3.5Gb|~0.6Gb| 10|~3min|~3min|\n",
    "|1|~3.5Gb|~0.6Gb| 128|~42min|~9min|"
   ]
  },
  {
   "cell_type": "code",
   "execution_count": null,
   "id": "fa2c532b-da31-47ee-a15e-5635a82a4494",
   "metadata": {},
   "outputs": [],
   "source": [
    "%%time\n",
    "synthesizer.fit(real_data)"
   ]
  },
  {
   "cell_type": "markdown",
   "id": "29fb292c-d607-4766-bb86-a145d7a78740",
   "metadata": {},
   "source": [
    "## Sample SD and save model"
   ]
  },
  {
   "cell_type": "code",
   "execution_count": null,
   "id": "d0a4fa57-b6e6-4010-be05-ca80d8bb9dda",
   "metadata": {},
   "outputs": [],
   "source": [
    "%%time\n",
    "synthetic_data = synthesizer.sample(num_sequences=sample_size)"
   ]
  },
  {
   "cell_type": "code",
   "execution_count": null,
   "id": "4ed4e07a-f5c4-470e-baf1-2888b8988c3c",
   "metadata": {},
   "outputs": [],
   "source": [
    "synthetic_data.head()"
   ]
  },
  {
   "cell_type": "code",
   "execution_count": null,
   "id": "24339255-4eca-44dd-a893-409dcd3ce324",
   "metadata": {},
   "outputs": [],
   "source": [
    "synthetic_data.describe()"
   ]
  },
  {
   "cell_type": "code",
   "execution_count": null,
   "id": "1cacc6eb-d1f3-4199-8157-8cde7e40f4f5",
   "metadata": {},
   "outputs": [],
   "source": [
    "real_data.describe()"
   ]
  },
  {
   "cell_type": "code",
   "execution_count": null,
   "id": "46eaad5c-652c-43c4-840e-8cb9a4a9ef6a",
   "metadata": {},
   "outputs": [],
   "source": [
    "synthetic_data[:24]"
   ]
  },
  {
   "cell_type": "code",
   "execution_count": null,
   "id": "f3da7eda-af8b-4ef9-b9ec-9f761825b693",
   "metadata": {},
   "outputs": [],
   "source": [
    "real_data"
   ]
  },
  {
   "cell_type": "code",
   "execution_count": null,
   "id": "7278f0bf-ec66-4b01-a8a5-5b7d44693120",
   "metadata": {},
   "outputs": [],
   "source": [
    "# save model\n",
    "synthesizer.save(f'quick_test_PAR_full_cols_{days}_days_{peaks}_peaks.pkl')"
   ]
  },
  {
   "cell_type": "code",
   "execution_count": null,
   "id": "a53527b3-84be-4fc0-8607-9b5a3d2b4926",
   "metadata": {},
   "outputs": [],
   "source": [
    "# dump data\n",
    "synthetic_data.to_csv(f\"synthetic_data_sdv_{days}_days_{peaks}_peaks.csv\")"
   ]
  },
  {
   "cell_type": "markdown",
   "id": "6fb5c88b-213b-4541-82e1-be368bdd8a4c",
   "metadata": {},
   "source": [
    "## Done!"
   ]
  }
 ],
 "metadata": {
  "kernelspec": {
   "display_name": "Python 3 (ipykernel)",
   "language": "python",
   "name": "python3"
  },
  "language_info": {
   "codemirror_mode": {
    "name": "ipython",
    "version": 3
   },
   "file_extension": ".py",
   "mimetype": "text/x-python",
   "name": "python",
   "nbconvert_exporter": "python",
   "pygments_lexer": "ipython3",
   "version": "3.10.12"
  }
 },
 "nbformat": 4,
 "nbformat_minor": 5
}
