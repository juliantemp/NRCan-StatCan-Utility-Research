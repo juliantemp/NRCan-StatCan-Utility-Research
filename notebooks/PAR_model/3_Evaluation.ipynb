{
 "cells": [
  {
   "cell_type": "markdown",
   "id": "4acdaad4-84d3-4f51-8feb-3fb53c824b8d",
   "metadata": {},
   "source": [
    "# Sample / Load SD data from PAR model for evaluation"
   ]
  },
  {
   "cell_type": "code",
   "execution_count": null,
   "id": "86b9a474-aaf7-4858-b630-4705255010c0",
   "metadata": {},
   "outputs": [],
   "source": [
    "import numpy as np\n",
    "import pandas as pd\n",
    "import matplotlib.pyplot as plt"
   ]
  },
  {
   "cell_type": "code",
   "execution_count": null,
   "id": "71886d1e-a1f6-4286-9ad1-972dbc04bcd3",
   "metadata": {},
   "outputs": [],
   "source": [
    "from IPython.utils import io"
   ]
  },
  {
   "cell_type": "code",
   "execution_count": null,
   "id": "de5cca99-61d1-4c18-b05e-f424117f3ee6",
   "metadata": {},
   "outputs": [],
   "source": [
    "from sdv.sequential import PARSynthesizer"
   ]
  },
  {
   "cell_type": "markdown",
   "id": "40ce6a39-1b6d-4556-9c1a-56948f776cf4",
   "metadata": {},
   "source": [
    "## Load SD generator & sample or load SD"
   ]
  },
  {
   "cell_type": "code",
   "execution_count": null,
   "id": "ce18cd64-a35c-4ad7-bf05-cf29c2a066fa",
   "metadata": {},
   "outputs": [],
   "source": [
    "# False to load SD, True to load model and generate\n",
    "generate = False\n",
    "# it should be 4000 but it takes 35 minutes on a GPU\n",
    "num_seq = 4000\n",
    "days = 1\n",
    "# real data dir\n",
    "data_dir = \"../\"\n",
    "# generate_tsne\n",
    "generate_tsne = False"
   ]
  },
  {
   "cell_type": "code",
   "execution_count": null,
   "id": "79be4924-37f7-4d84-9441-4343505f1749",
   "metadata": {
    "scrolled": true
   },
   "outputs": [],
   "source": [
    "%%time\n",
    "if generate:\n",
    "    synthesizer = PARSynthesizer.load(f\"quick_test_PAR_full_cols_{days}_days.pkl\")\n",
    "    #synthesizer.verbose = False\n",
    "    with io.capture_output() as captured:\n",
    "        synthetic_data = synthesizer.sample(num_sequences=num_seq);\n",
    "    synthetic_data.to_csv(f\"synthetic_data_sdv_{days}_days.csv\")\n",
    "else:\n",
    "    synthetic_data = pd.read_csv(f\"synthetic_data_sdv_{days}_days.csv\", index_col=0)"
   ]
  },
  {
   "cell_type": "markdown",
   "id": "d074eedc-1b25-4444-855d-4f5cba49b8a7",
   "metadata": {},
   "source": [
    "## Load RD"
   ]
  },
  {
   "cell_type": "code",
   "execution_count": null,
   "id": "539b6e5b-9d93-4ecf-9e54-4d4b0c5e7763",
   "metadata": {},
   "outputs": [],
   "source": [
    "real_data = pd.read_csv(f\"{data_dir}real_data_sdv_{days}_days.csv\", index_col=0)"
   ]
  },
  {
   "cell_type": "code",
   "execution_count": null,
   "id": "7d91f02e-1266-40bd-bef5-87bee62c8a4d",
   "metadata": {},
   "outputs": [],
   "source": [
    "real_data"
   ]
  },
  {
   "cell_type": "code",
   "execution_count": null,
   "id": "2737f232-1bcb-4be9-b0ba-77a5f80b5958",
   "metadata": {},
   "outputs": [],
   "source": [
    "len(real_data.columns)"
   ]
  },
  {
   "cell_type": "markdown",
   "id": "422e312f-e278-4973-a746-5ed8d1f4661f",
   "metadata": {},
   "source": [
    "### Revert data types for SD"
   ]
  },
  {
   "cell_type": "code",
   "execution_count": null,
   "id": "52d94768-f525-45dd-8178-06b4fe8fe05e",
   "metadata": {},
   "outputs": [],
   "source": [
    "#sd_df = synthetic_data"
   ]
  },
  {
   "cell_type": "code",
   "execution_count": null,
   "id": "f3a3fc39-ebd3-4230-849c-b53574de8462",
   "metadata": {},
   "outputs": [],
   "source": [
    "# check types are equal\n",
    "synthetic_data.dtypes.equals(real_data.dtypes)"
   ]
  },
  {
   "cell_type": "code",
   "execution_count": null,
   "id": "dba1808c-723a-473a-8c39-17a5f7774c33",
   "metadata": {},
   "outputs": [],
   "source": [
    "# check columns are equal\n",
    "synthetic_data.columns.equals(real_data.columns)"
   ]
  },
  {
   "cell_type": "code",
   "execution_count": null,
   "id": "e7e1e52c-012b-4250-98f2-bb3e9ce4f92f",
   "metadata": {},
   "outputs": [],
   "source": [
    "synthetic_data = synthetic_data.convert_dtypes()\n",
    "real_data = real_data.convert_dtypes()"
   ]
  },
  {
   "cell_type": "code",
   "execution_count": null,
   "id": "5e3c9b14-60fb-428e-bdfe-28aae8763241",
   "metadata": {},
   "outputs": [],
   "source": [
    "# check types are equal\n",
    "synthetic_data.dtypes.equals(real_data.dtypes)"
   ]
  },
  {
   "cell_type": "code",
   "execution_count": null,
   "id": "633e6f4f-6604-4464-b144-2dc6576764f2",
   "metadata": {},
   "outputs": [],
   "source": [
    "# check columns are equal\n",
    "synthetic_data.columns.equals(real_data.columns)"
   ]
  },
  {
   "cell_type": "code",
   "execution_count": null,
   "id": "80cf9233-74fd-4aa0-b210-eb704d945ae5",
   "metadata": {},
   "outputs": [],
   "source": [
    "real_data.describe()"
   ]
  },
  {
   "cell_type": "code",
   "execution_count": null,
   "id": "546ea2a0-af2e-41cd-a11d-c346c51926c9",
   "metadata": {},
   "outputs": [],
   "source": [
    "synthetic_data.describe()"
   ]
  },
  {
   "cell_type": "code",
   "execution_count": null,
   "id": "89cfd030-09f8-443c-9f56-6f51917e1710",
   "metadata": {},
   "outputs": [],
   "source": [
    "# get number of unique ids\n",
    "udids = len(synthetic_data.datapoint_id.unique())"
   ]
  },
  {
   "cell_type": "code",
   "execution_count": null,
   "id": "e8f53e0c-3052-4f76-b611-6cea3969c6b0",
   "metadata": {},
   "outputs": [],
   "source": [
    "print(f\"Unique datapoint_ids = {udids}\")"
   ]
  },
  {
   "cell_type": "code",
   "execution_count": null,
   "id": "f24a1215-8892-4c70-bc78-f22379a4476a",
   "metadata": {},
   "outputs": [],
   "source": [
    "# let's throw and error if real and SD data do not have same number of buildings\n",
    "if udids != len(real_data.datapoint_id.unique()):\n",
    "    raise ValueError(\"Real and SD have different number of buildings\")"
   ]
  },
  {
   "cell_type": "code",
   "execution_count": null,
   "id": "4de800ce-642a-4b66-8250-62d6b6557d42",
   "metadata": {},
   "outputs": [],
   "source": [
    "from synthcity import metrics\n",
    "from synthcity.benchmark import Benchmarks\n",
    "from synthcity.plugins.core.dataloader import TimeSeriesDataLoader"
   ]
  },
  {
   "cell_type": "markdown",
   "id": "99c4778b-1d0b-4e5a-9359-52d012b6c279",
   "metadata": {},
   "source": [
    "### Convert to TimeSeriesDataLoaders\n",
    "- Convert dataframes to synthcity data loaders for plotting"
   ]
  },
  {
   "cell_type": "code",
   "execution_count": null,
   "id": "24b8025f-6a75-4174-ab96-15a2d03bdc0c",
   "metadata": {},
   "outputs": [],
   "source": [
    "from sklearn.preprocessing import OrdinalEncoder\n",
    "from sklearn.compose import make_column_transformer\n",
    "from sklearn.compose import make_column_selector"
   ]
  },
  {
   "cell_type": "code",
   "execution_count": null,
   "id": "70b4f8d4-0b5f-42a9-9de2-02a9c0d685a7",
   "metadata": {},
   "outputs": [],
   "source": [
    "def convert_to_tsdloaders(df, ct=None):\n",
    "    group_timeseries = df[[\"datapoint_id\", \"energy_elec\", \"energy_gas\"]].groupby('datapoint_id', sort=False)\n",
    "    timeseries_dfs = [group_timeseries.get_group(t)[[\"energy_elec\", \"energy_gas\"]].reset_index(drop=True) for t in group_timeseries.groups]\n",
    "    #timeseries_dfs = [df[[\"energy_elec\", \"energy_gas\"]][i:i+days*24].reset_index(drop=True).copy() for i in range(0, df.shape[0], days*24)]\n",
    "   \n",
    "    static_df = df.drop(columns=[\"Timestamp\", \"energy_elec\", \"energy_gas\"]).drop_duplicates().reset_index(drop=True)\n",
    "    #static_df[\"datapoint_id\"]=static_df.index\n",
    "    #static_df = df.drop(columns=[\"datapoint_id\"])\n",
    "    if not ct:\n",
    "        ct = make_column_transformer((OrdinalEncoder(), make_column_selector(dtype_include=\"string\")),\n",
    "                                     (\"passthrough\",make_column_selector(dtype_exclude=[\"string\"])))\n",
    "                                                                                                    #                               , dtype_include=[\"Float64\", \"Int64\"])))\n",
    "    column_order = list(static_df.select_dtypes(include=[\"string\"]).columns) + list(static_df.select_dtypes(include=[\"Float64\", \"Int64\"]).columns)\n",
    "    tr_df = pd.DataFrame(ct.fit_transform(static_df), index=static_df.index, columns=column_order)[static_df.columns]\n",
    "    \n",
    "    \n",
    "    observation_data = []\n",
    "    outcome = []\n",
    "    for tdf in timeseries_dfs:\n",
    "        observations = list(tdf.index)\n",
    "        observation_data.append(observations)\n",
    "        outcome.append(1)    \n",
    "    loader = []\n",
    "    loader = TimeSeriesDataLoader(\n",
    "         temporal_data=timeseries_dfs,\n",
    "         observation_times=observation_data,\n",
    "         static_data=tr_df,#static_df,\n",
    "         outcome=pd.DataFrame(outcome),#pd.DataFrame(btap_in_df[[\"Total Energy\"]])#moutcome),\n",
    "    )\n",
    "    return loader, tr_df, timeseries_dfs, observation_data, ct"
   ]
  },
  {
   "cell_type": "code",
   "execution_count": null,
   "id": "855415b2-c581-4047-855e-437881d0fa56",
   "metadata": {},
   "outputs": [],
   "source": []
  },
  {
   "cell_type": "code",
   "execution_count": null,
   "id": "49e606f6-1841-4556-9fc3-dd9d8e645dfd",
   "metadata": {},
   "outputs": [],
   "source": [
    "%%time\n",
    "rd_loader, static_df, timeseries_dfs, observation_data, ct = convert_to_tsdloaders(real_data)#[[\"datapoint_id\", \":dcv_type\", \"Timestamp\", \"energy_elec\", \"energy_gas\"]])"
   ]
  },
  {
   "cell_type": "code",
   "execution_count": null,
   "id": "ac09089f-2040-4dc0-a00c-32442e69142e",
   "metadata": {},
   "outputs": [],
   "source": [
    "%%time\n",
    "sd_loader, sd_static_df, sd_timeseries_dfs, sd_observation_data, sd_ct = convert_to_tsdloaders(synthetic_data, ct)#[[\"datapoint_id\", \":dcv_type\", \"Timestamp\", \"energy_elec\", \"energy_gas\"]], ct)"
   ]
  },
  {
   "cell_type": "markdown",
   "id": "0e83d80a-d4c2-4f25-a58d-ab2d5994cac6",
   "metadata": {},
   "source": [
    "## Evaluation\n",
    "- It takes 2 1/2 hours to run metrics on cpu (3 minutes on GPU): sanity, stats, and privacy\n",
    "- We need to check if the metrics are being computed accordingly. The plots are right because we are using the SD dataloaders."
   ]
  },
  {
   "cell_type": "code",
   "execution_count": null,
   "id": "17ec587e-26ac-4b73-8c9d-2eed66696a73",
   "metadata": {},
   "outputs": [],
   "source": [
    "metrics_dict = {\n",
    "    'sanity': ['data_mismatch', 'common_rows_proportion', 'nearest_syn_neighbor_distance', 'close_values_probability', 'distant_values_probability'],\n",
    "    'stats': ['jensenshannon_dist', 'chi_squared_test', 'feature_corr', 'inv_kl_divergence', 'ks_test', 'max_mean_discrepancy', 'wasserstein_dist', 'prdc', 'alpha_precision', 'survival_km_distance'],\n",
    "    # these do not make sense\n",
    "    #'performance': ['linear_model', 'mlp', 'xgb', 'feat_rank_distance'],\n",
    "    #'detection': ['detection_xgb', 'detection_mlp', 'detection_gmm', 'detection_linear'],\n",
    "    # this takes a long time to run\n",
    "    'privacy': ['delta-presence', 'k-anonymization', 'k-map', 'distinct l-diversity', 'identifiability_score']\n",
    "}"
   ]
  },
  {
   "cell_type": "code",
   "execution_count": null,
   "id": "cdb99fd5-74b9-4cad-8e0c-3df92c91d92c",
   "metadata": {},
   "outputs": [],
   "source": [
    "%%time\n",
    "scores = []\n",
    "for k, v in metrics_dict.items():\n",
    "    print(f\"{k} metrics\")\n",
    "    score = metrics.Metrics.evaluate(real_data, synthetic_data, metrics={k: v})\n",
    "    scores.append(score)\n",
    "    #print(score)"
   ]
  },
  {
   "cell_type": "markdown",
   "id": "7da5c20f-d18c-4502-8936-5627ee274d72",
   "metadata": {},
   "source": [
    "### Synthcity can compare several batches of generated SD and output statistics from the metrics for each evaluation. Here we only care about generating metrics for one batch.\n",
    "\n",
    "Thus in the `scores` dictionary the key `mean` has a different meaning, it reflects the value of the metric. All other keys can be discarded."
   ]
  },
  {
   "cell_type": "code",
   "execution_count": null,
   "id": "ba11e413-201f-4978-b84f-2a40859b2a5d",
   "metadata": {},
   "outputs": [],
   "source": [
    "scores[0][['mean']]"
   ]
  },
  {
   "cell_type": "code",
   "execution_count": null,
   "id": "d28eecdb-1784-48d8-8a19-228c5b48f732",
   "metadata": {},
   "outputs": [],
   "source": [
    "scores[1][['mean']]"
   ]
  },
  {
   "cell_type": "code",
   "execution_count": null,
   "id": "8371e54f-00cd-4aac-8a9b-591bfbb1ea6f",
   "metadata": {},
   "outputs": [],
   "source": [
    "scores[2][['mean']]"
   ]
  },
  {
   "cell_type": "markdown",
   "id": "aee81093-a33f-41bf-a360-a4d86854d77c",
   "metadata": {},
   "source": [
    "## Plots\n",
    "\n",
    "- Distributions\n",
    "- tSNE\n",
    "- Time Series comparison"
   ]
  },
  {
   "cell_type": "code",
   "execution_count": null,
   "id": "3a875cf1-d739-477c-944c-3582b2dc5dd1",
   "metadata": {},
   "outputs": [],
   "source": [
    "from synthcity.metrics.plots import plot_marginal_comparison, plot_tsne"
   ]
  },
  {
   "cell_type": "code",
   "execution_count": null,
   "id": "8694ab9d-1570-4c84-ad8c-5d2de49a4ff4",
   "metadata": {},
   "outputs": [],
   "source": [
    "import matplotlib.pyplot as plt"
   ]
  },
  {
   "cell_type": "code",
   "execution_count": null,
   "id": "1a35600b-8bae-4770-be2b-125d42caedad",
   "metadata": {},
   "outputs": [],
   "source": [
    "%%time\n",
    "plot_marginal_comparison(plt, rd_loader, sd_loader)"
   ]
  },
  {
   "cell_type": "code",
   "execution_count": null,
   "id": "bea5715d-8c18-4fba-b1bf-1aa9d7302821",
   "metadata": {},
   "outputs": [],
   "source": [
    "%%time\n",
    "if generate_tsne:\n",
    "    plot_tsne(plt, rd_loader, sd_loader)"
   ]
  },
  {
   "cell_type": "code",
   "execution_count": null,
   "id": "446540b4",
   "metadata": {},
   "outputs": [],
   "source": [
    "import pandas as pd\n",
    "import matplotlib.pyplot as plt\n",
    "import seaborn as sns\n",
    "from matplotlib.ticker import FuncFormatter\n",
    "import random\n",
    "\n",
    "# Set the style for the plots\n",
    "sns.set_style(\"whitegrid\")\n",
    "sns.set_context(\"paper\")  # Sets the scaling of elements such as the font size\n",
    "\n",
    "# Formatter for the y-axis\n",
    "def thousands(x, pos):\n",
    "    'The two args are the value and tick position'\n",
    "    return f'{x * 1e-3:,.0f}k'.replace(',', ' ')\n",
    "\n",
    "formatter = FuncFormatter(thousands)\n",
    "\n",
    "# Specify the datapoint_ids you want to plot\n",
    "real_specific_id = ''\n",
    "#'ffd6365e-568d-4303-b334-1cb246666325'\n",
    "synthetic_specific_id = ''\n",
    "#'000f9e'\n",
    "\n",
    "# If specific IDs are not provided, choose a random one from the unique values\n",
    "if not real_specific_id:\n",
    "    real_specific_id = random.choice(real_data['datapoint_id'].unique())\n",
    "if not synthetic_specific_id:\n",
    "    synthetic_specific_id = random.choice(synthetic_data['datapoint_id'].unique())\n",
    "\n",
    "# Filter the dataframes based on the selected datapoint_ids\n",
    "real_data_filtered = real_data[real_data['datapoint_id'] == real_specific_id]\n",
    "synthetic_data_filtered = synthetic_data[synthetic_data['datapoint_id'] == synthetic_specific_id]\n",
    "\n",
    "# Ensure Timestamp is datetime type for better x-axis formatting\n",
    "real_data_filtered['Timestamp'] = pd.to_datetime(real_data_filtered['Timestamp'])\n",
    "synthetic_data_filtered['Timestamp'] = pd.to_datetime(synthetic_data_filtered['Timestamp'])\n",
    "\n",
    "# Electric Energy Comparison\n",
    "plt.figure(figsize=(10, 6))\n",
    "ax = plt.subplot(111)\n",
    "ax.plot(real_data_filtered['Timestamp'], real_data_filtered['energy_elec'], label='Real Data - Electric Energy', color='#0072B2', linewidth=2.5)\n",
    "ax.plot(synthetic_data_filtered['Timestamp'], synthetic_data_filtered['energy_elec'], label='Synthetic Data - Electric Energy', color='#D55E00', linestyle='--', linewidth=2.5)\n",
    "ax.yaxis.set_major_formatter(formatter)\n",
    "plt.title('Comparison of Electric Energy Usage Over Time', fontsize=16)\n",
    "plt.xlabel('Timestamp', fontsize=14)\n",
    "plt.ylabel('Electric Energy Usage (kWh)', fontsize=14)\n",
    "plt.legend(fontsize=12, loc='upper right')\n",
    "plt.grid(True, which='both', linestyle='--', linewidth=0.5)\n",
    "sns.despine(left=True)\n",
    "plt.tight_layout()\n",
    "\n",
    "# Save the plot with high resolution\n",
    "#plt.savefig('electric_energy_comparison.png', dpi=300)  # Replace with your path\n",
    "\n",
    "plt.show()\n",
    "\n",
    "# Gas Energy Comparison\n",
    "plt.figure(figsize=(10, 6))\n",
    "ax = plt.subplot(111)\n",
    "ax.plot(real_data_filtered['Timestamp'], real_data_filtered['energy_gas'], label='Real Data - Gas Energy', color='#0072B2', linewidth=2.5)\n",
    "ax.plot(synthetic_data_filtered['Timestamp'], synthetic_data_filtered['energy_gas'], label='Synthetic Data - Gas Energy', color='#D55E00', linestyle='--', linewidth=2.5)\n",
    "ax.yaxis.set_major_formatter(formatter)\n",
    "plt.title('Comparison of Gas Energy Usage Over Time', fontsize=16)\n",
    "plt.xlabel('Timestamp', fontsize=14)\n",
    "plt.ylabel('Gas Energy Usage (kWh)', fontsize=14)\n",
    "plt.legend(fontsize=12, loc='upper right')\n",
    "plt.grid(True, which='both', linestyle='--', linewidth=0.5)\n",
    "sns.despine(left=True)\n",
    "plt.tight_layout()\n",
    "\n",
    "# Save the plot with high resolution\n",
    "#plt.savefig('gas_energy_comparison.png', dpi=300)  # Replace with your path\n",
    "\n",
    "plt.show()\n"
   ]
  },
  {
   "cell_type": "code",
   "execution_count": null,
   "id": "7e9648c2",
   "metadata": {},
   "outputs": [],
   "source": [
    "#Mean Energy Usage \n",
    "\n",
    "\n",
    "real_data_avg = real_data.groupby('Timestamp').mean().reset_index()\n",
    "synthetic_data_avg = synthetic_data.groupby('Timestamp').mean().reset_index()\n",
    "\n",
    "plt.figure(figsize=(10, 6))\n",
    "ax = plt.subplot(111)\n",
    "ax.plot(real_data_avg['Timestamp'], real_data_avg['energy_elec'], label='Real Data - Average Electric Energy', color='#0072B2', linewidth=2.5)\n",
    "ax.plot(synthetic_data_avg['Timestamp'], synthetic_data_avg['energy_elec'], label='Synthetic Data - Average Electric Energy', color='#D55E00', linestyle='--', linewidth=2.5)\n",
    "ax.yaxis.set_major_formatter(formatter)\n",
    "plt.title('Average Comparison of Electric Energy Usage Over Time', fontsize=16)\n",
    "plt.xlabel('Timestamp', fontsize=14)\n",
    "plt.ylabel('Electric Energy Usage (kWh)', fontsize=14)\n",
    "plt.legend(fontsize=12, loc='upper right')\n",
    "plt.grid(True, which='both', linestyle='--', linewidth=0.5)\n",
    "sns.despine(left=True)\n",
    "plt.tight_layout()\n",
    "plt.show()\n",
    "\n",
    "plt.figure(figsize=(10, 6))\n",
    "ax = plt.subplot(111)\n",
    "ax.plot(real_data_avg['Timestamp'], real_data_avg['energy_gas'], label='Real Data - Average Gas Energy', color='#0072B2', linewidth=2.5)\n",
    "ax.plot(synthetic_data_avg['Timestamp'], synthetic_data_avg['energy_gas'], label='Synthetic Data - Average Gas Energy', color='#D55E00', linestyle='--', linewidth=2.5)\n",
    "ax.yaxis.set_major_formatter(formatter)\n",
    "plt.title('Average Comparison of Gas Energy Usage Over Time', fontsize=16)\n",
    "plt.xlabel('Timestamp', fontsize=14)\n",
    "plt.ylabel('Gas Energy Usage (kWh)', fontsize=14)\n",
    "plt.legend(fontsize=12, loc='upper right')\n",
    "plt.grid(True, which='both', linestyle='--', linewidth=0.5)\n",
    "sns.despine(left=True)\n",
    "plt.tight_layout()\n",
    "plt.show()\n"
   ]
  },
  {
   "cell_type": "markdown",
   "id": "bc827712-56e7-48f9-bd78-96f412e9bcfb",
   "metadata": {},
   "source": [
    "## Done!"
   ]
  }
 ],
 "metadata": {
  "kernelspec": {
   "display_name": "Python 3 (ipykernel)",
   "language": "python",
   "name": "python3"
  },
  "language_info": {
   "codemirror_mode": {
    "name": "ipython",
    "version": 3
   },
   "file_extension": ".py",
   "mimetype": "text/x-python",
   "name": "python",
   "nbconvert_exporter": "python",
   "pygments_lexer": "ipython3",
   "version": "3.10.12"
  }
 },
 "nbformat": 4,
 "nbformat_minor": 5
}
