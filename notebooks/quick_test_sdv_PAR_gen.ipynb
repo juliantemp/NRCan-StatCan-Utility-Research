{
 "cells": [
  {
   "cell_type": "markdown",
   "id": "4acdaad4-84d3-4f51-8feb-3fb53c824b8d",
   "metadata": {},
   "source": [
    "# Sample / Load SD data from PAR model for evaluation"
   ]
  },
  {
   "cell_type": "code",
   "execution_count": null,
   "id": "86b9a474-aaf7-4858-b630-4705255010c0",
   "metadata": {},
   "outputs": [],
   "source": [
    "import numpy as np\n",
    "import pandas as pd\n",
    "import matplotlib.pyplot as plt"
   ]
  },
  {
   "cell_type": "code",
   "execution_count": null,
   "id": "71886d1e-a1f6-4286-9ad1-972dbc04bcd3",
   "metadata": {},
   "outputs": [],
   "source": [
    "from IPython.utils import io"
   ]
  },
  {
   "cell_type": "code",
   "execution_count": null,
   "id": "de5cca99-61d1-4c18-b05e-f424117f3ee6",
   "metadata": {},
   "outputs": [],
   "source": [
    "from sdv.sequential import PARSynthesizer"
   ]
  },
  {
   "cell_type": "markdown",
   "id": "40ce6a39-1b6d-4556-9c1a-56948f776cf4",
   "metadata": {},
   "source": [
    "## Load SD generator, sample, and save SD"
   ]
  },
  {
   "cell_type": "code",
   "execution_count": null,
   "id": "ce18cd64-a35c-4ad7-bf05-cf29c2a066fa",
   "metadata": {},
   "outputs": [],
   "source": [
    "generate = True\n",
    "# it should be 4000 but it takes 35 minutes on a GPU\n",
    "num_seq = 4000"
   ]
  },
  {
   "cell_type": "code",
   "execution_count": null,
   "id": "79be4924-37f7-4d84-9441-4343505f1749",
   "metadata": {
    "scrolled": true
   },
   "outputs": [],
   "source": [
    "%%time\n",
    "if generate:\n",
    "    synthesizer = PARSynthesizer.load('quick_test_PAR_full_cols.pkl')\n",
    "    #synthesizer.verbose = False\n",
    "    with io.capture_output() as captured:\n",
    "        synthetic_data = synthesizer.sample(num_sequences=num_seq);\n",
    "    synthetic_data.to_csv(\"synthetic_data_sdv.csv\")\n",
    "else:\n",
    "    synthetic_data = pd.read_csv(\"synthetic_data_sdv.csv\")"
   ]
  },
  {
   "cell_type": "code",
   "execution_count": null,
   "id": "8fe3901e-401e-4b12-8e2a-57ad77a8e4f3",
   "metadata": {},
   "outputs": [],
   "source": [
    "synthetic_data"
   ]
  },
  {
   "cell_type": "markdown",
   "id": "d074eedc-1b25-4444-855d-4f5cba49b8a7",
   "metadata": {},
   "source": [
    "## Load RD"
   ]
  },
  {
   "cell_type": "code",
   "execution_count": null,
   "id": "539b6e5b-9d93-4ecf-9e54-4d4b0c5e7763",
   "metadata": {},
   "outputs": [],
   "source": [
    "real_data = pd.read_csv(\"real_data_sdv.csv\", index_col=0)"
   ]
  },
  {
   "cell_type": "code",
   "execution_count": null,
   "id": "7d91f02e-1266-40bd-bef5-87bee62c8a4d",
   "metadata": {},
   "outputs": [],
   "source": [
    "real_data"
   ]
  },
  {
   "cell_type": "markdown",
   "id": "422e312f-e278-4973-a746-5ed8d1f4661f",
   "metadata": {},
   "source": [
    "### Revert data types for SD"
   ]
  },
  {
   "cell_type": "code",
   "execution_count": null,
   "id": "52d94768-f525-45dd-8178-06b4fe8fe05e",
   "metadata": {},
   "outputs": [],
   "source": [
    "sd_df = synthetic_data.astype(real_data.dtypes)"
   ]
  },
  {
   "cell_type": "code",
   "execution_count": null,
   "id": "80cf9233-74fd-4aa0-b210-eb704d945ae5",
   "metadata": {},
   "outputs": [],
   "source": [
    "real_data.describe()"
   ]
  },
  {
   "cell_type": "code",
   "execution_count": null,
   "id": "546ea2a0-af2e-41cd-a11d-c346c51926c9",
   "metadata": {},
   "outputs": [],
   "source": [
    "sd_df.describe()"
   ]
  },
  {
   "cell_type": "code",
   "execution_count": null,
   "id": "77cba32b-9939-4cdd-ba9f-04881415fa92",
   "metadata": {},
   "outputs": [],
   "source": []
  }
 ],
 "metadata": {
  "kernelspec": {
   "display_name": "Python 3 (ipykernel)",
   "language": "python",
   "name": "python3"
  },
  "language_info": {
   "codemirror_mode": {
    "name": "ipython",
    "version": 3
   },
   "file_extension": ".py",
   "mimetype": "text/x-python",
   "name": "python",
   "nbconvert_exporter": "python",
   "pygments_lexer": "ipython3",
   "version": "3.10.12"
  }
 },
 "nbformat": 4,
 "nbformat_minor": 5
}
