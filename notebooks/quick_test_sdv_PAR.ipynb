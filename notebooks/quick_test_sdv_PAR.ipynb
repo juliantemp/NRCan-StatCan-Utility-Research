{
 "cells": [
  {
   "cell_type": "markdown",
   "id": "8b21fa2c-08b8-416c-9a01-1ec2e2230b8c",
   "metadata": {},
   "source": [
    "# BTAP Synthetic data generation using PAR model from Synthetic Data Vault"
   ]
  },
  {
   "cell_type": "code",
   "execution_count": null,
   "id": "75b25dc0-a50b-467c-8c6c-19c0bc0d99f7",
   "metadata": {},
   "outputs": [],
   "source": [
    "from datetime import datetime, timedelta"
   ]
  },
  {
   "cell_type": "code",
   "execution_count": null,
   "id": "370db2d7-4db6-4060-bdf7-1afba9091971",
   "metadata": {},
   "outputs": [],
   "source": [
    "import numpy as np"
   ]
  },
  {
   "cell_type": "code",
   "execution_count": null,
   "id": "9e8661e1-99e6-49cc-9c9c-58558e09307d",
   "metadata": {},
   "outputs": [],
   "source": [
    "import pandas as pd"
   ]
  },
  {
   "cell_type": "markdown",
   "id": "ee377a34-6628-4ec6-8c86-056b427cf660",
   "metadata": {},
   "source": [
    "## Read original BTAP data\n",
    "- Building files"
   ]
  },
  {
   "cell_type": "code",
   "execution_count": null,
   "id": "d41ca896-6783-4971-bf8e-e529fcbda392",
   "metadata": {},
   "outputs": [],
   "source": [
    "PATH = \"../data/BTAP_Share/\""
   ]
  },
  {
   "cell_type": "code",
   "execution_count": null,
   "id": "d5c2c8b3-de2a-4c91-acc6-707086d9c6d0",
   "metadata": {},
   "outputs": [],
   "source": [
    "path_elec = PATH + \"calgary_toronto_elec.xlsx\"\n",
    "path_gas = PATH + \"calgary_toronto_gas.xlsx\""
   ]
  },
  {
   "cell_type": "code",
   "execution_count": null,
   "id": "fc696a1c-ac1a-4c1c-99ff-875c7d73fdfb",
   "metadata": {},
   "outputs": [],
   "source": [
    "%%time\n",
    "btap_df = pd.read_excel(path_elec)"
   ]
  },
  {
   "cell_type": "code",
   "execution_count": null,
   "id": "4f0b486c-4aa7-4015-8e75-64be855a913b",
   "metadata": {},
   "outputs": [],
   "source": [
    "%%time\n",
    "btap_df = pd.concat([btap_df, pd.read_excel(path_gas)], ignore_index=True)"
   ]
  },
  {
   "cell_type": "code",
   "execution_count": null,
   "id": "58e030f6-c24e-4dcb-9387-0740572639c4",
   "metadata": {},
   "outputs": [],
   "source": [
    "btap_df.head()"
   ]
  },
  {
   "cell_type": "code",
   "execution_count": null,
   "id": "1b933109-652b-45bd-86fb-0600f832669f",
   "metadata": {},
   "outputs": [],
   "source": [
    "btap_df.columns"
   ]
  },
  {
   "cell_type": "markdown",
   "id": "b3bdac06-d8d9-4f6e-ae52-82d764990ab9",
   "metadata": {},
   "source": [
    "## Data cleaning"
   ]
  },
  {
   "cell_type": "code",
   "execution_count": null,
   "id": "8190bd75-c155-4d6d-8311-58c3e66445c2",
   "metadata": {},
   "outputs": [],
   "source": [
    "# Building meters squared\n",
    "floor_sq = btap_df['bldg_conditioned_floor_area_m_sq'].unique()\n",
    "#print(btap_df['bldg_conditioned_floor_area_m_sq'].unique())"
   ]
  },
  {
   "cell_type": "code",
   "execution_count": null,
   "id": "2fc0efba-803d-4c26-9c0e-46a4f486105b",
   "metadata": {},
   "outputs": [],
   "source": [
    "# Unique weather keys\n",
    "epw_keys = btap_df[':epw_file'].unique()\n",
    "# Dynamic list of columns to remove\n",
    "output_drop_list = ['Unnamed: 0', ':template']\n",
    "# List of columns to keep despite being ruled to be removed\n",
    "output_drop_list_exceptions = ['energy_eui_additional_fuel_gj_per_m_sq',\n",
    "                               'energy_eui_electricity_gj_per_m_sq',\n",
    "                               'energy_eui_natural_gas_gj_per_m_sq',\n",
    "                               'net_site_eui_gj_per_m_sq',\n",
    "                               ':building_type',\n",
    "                               ':epw_file',\n",
    "                               'bldg_conditioned_floor_area_m_sq',\n",
    "                               ':erv_package'\n",
    "                              ]\n",
    "\n",
    "# Since :srr_set contains string and float values, we replace it with\n",
    "# TODO: Remove when the inputs handle default values\n",
    "btap_df[':srr_set'] = btap_df['bldg_srr'] / 100\n",
    "\n",
    "# Remove columns without a ':' and which are not exceptions\n",
    "for col in btap_df.columns:\n",
    "    if ((':' not in col) and (col not in output_drop_list_exceptions)):\n",
    "        output_drop_list.append(col)\n",
    "btap_df = btap_df.drop(output_drop_list, axis=1)\n",
    "\n",
    "# Define a Total energy column\n",
    "if 'net_site_eui_gj_per_m_sq' in btap_df:\n",
    "    btap_df['Total Energy'] = btap_df[['net_site_eui_gj_per_m_sq']].sum(axis=1)\n",
    "\n",
    "drop_list = ['energy_eui_additional_fuel_gj_per_m_sq',\n",
    "             'energy_eui_electricity_gj_per_m_sq',\n",
    "             'energy_eui_natural_gas_gj_per_m_sq',\n",
    "             'net_site_eui_gj_per_m_sq',\n",
    "             ':analysis_id',\n",
    "             ':analysis_name',\n",
    "             ':os_standards_branch',\n",
    "             ':btap_costing_branch']\n",
    "# Drop any remaining fields which exist, ignoring raised errors\n",
    "btap_df = btap_df.drop(drop_list, axis=1, errors='ignore')"
   ]
  },
  {
   "cell_type": "code",
   "execution_count": null,
   "id": "4ccf94a8-393e-43ed-a312-e0028b48a401",
   "metadata": {},
   "outputs": [],
   "source": [
    "btap_df.head()"
   ]
  },
  {
   "cell_type": "code",
   "execution_count": null,
   "id": "b7f8b23a-954f-42fa-95c5-5eb006104c7a",
   "metadata": {},
   "outputs": [],
   "source": [
    "def clean_data(df) -> pd.DataFrame:\n",
    "    \"\"\"\n",
    "    Basic cleaning of the data using the following criterion:\n",
    "\n",
    "    - dropping any column with more than 50% missing values\n",
    "      The 50% threshold is a way to eliminate columns with too much missing values in the dataset.\n",
    "      We cant use N/A as it will elimnate the entire row /datapoint_id. Giving the number of features we have to work it its better we eliminate\n",
    "      columns with features that have too much missing values than to eliminate by rows, which is what N/A will do .\n",
    "    - dropping columns with 1 unique value\n",
    "      For columns with  1 unique values are dropped during data cleaning as they have low variance\n",
    "      and hence have little or no significant contribution to the accuracy of the model.\n",
    "\n",
    "    Args:\n",
    "        df: dataset to be cleaned\n",
    "\n",
    "    Returns:\n",
    "        df: cleaned dataframe\n",
    "    \"\"\"\n",
    "    # Needed to avoid SettingWithCopyWarning from pandas\n",
    "    df = df.copy()\n",
    "    # Drop any column with more than 50% missing values\n",
    "    half_count = len(df) / 2\n",
    "    df = df.dropna(thresh=half_count, axis=1)\n",
    "\n",
    "    # Lists of columns which ignore the one unique value restraint since\n",
    "    # they may be needed later on\n",
    "    column_exceptions = ['energy_eui_additional_fuel_gj_per_m_sq',\n",
    "                         'energy_eui_electricity_gj_per_m_sq',\n",
    "                         'energy_eui_natural_gas_gj_per_m_sq',\n",
    "                         ':building_type',\n",
    "                         ':epw_file',\n",
    "                         'bldg_conditioned_floor_area_m_sq',\n",
    "                         'Name']\n",
    "\n",
    "    # Again, there may be some columns with more than one unique value, but one\n",
    "    # value that has insignificant frequency in the data set.\n",
    "    for col in df.columns:\n",
    "        num = len(df[col].unique())\n",
    "        # Remove any columns with only one unique value and which are not exceptions\n",
    "        if ((len(df[col].unique()) == 1) and (col not in column_exceptions)):\n",
    "            df.drop(col, inplace=True, axis=1)\n",
    "    return df"
   ]
  },
  {
   "cell_type": "markdown",
   "id": "3131d327-0852-4bd5-8010-785f5449b7dd",
   "metadata": {},
   "source": [
    "## Read original energy data"
   ]
  },
  {
   "cell_type": "code",
   "execution_count": null,
   "id": "f7bdf7a6-57f6-4889-aa2e-149bcb48961f",
   "metadata": {},
   "outputs": [],
   "source": [
    "path_elec = PATH + \"calgary_toronto_elec_energy.csv\"\n",
    "path_gas = PATH + \"calgary_toronto_gas_energy.csv\""
   ]
  },
  {
   "cell_type": "code",
   "execution_count": null,
   "id": "fbe55dc7-4863-4f0f-b214-16eb869dffc4",
   "metadata": {},
   "outputs": [],
   "source": [
    "%%time\n",
    "energy_df = pd.read_csv(path_elec)\n",
    "#if path_gas:\n",
    "energy_df = pd.concat([energy_df, pd.read_csv(path_gas)], ignore_index=True)\n",
    "# Adds all except Electricity:Facility\n",
    "#energy_df.loc[(energy_df['Name'] != \"ElectricityNet:Facility\") & (energy_df['Name'] != \"NaturalGas:Facility\"), ['Name']] = \"Electricity:Facility\"\n",
    "energy_df = energy_df.loc[(energy_df['Name'] == \"ElectricityNet:Facility\") | (energy_df['Name'] == \"NaturalGas:Facility\")]\n",
    "#print(energy_df[energy_df['Name'] == \"ElectricityNet:Facility\" or energy_df['Name'] == 'NaturalGas:Facility'])\n",
    "#energy_df = energy_df[energy_df['Name'] != \"Electricity:Facility\"].groupby(['datapoint_id']).sum()\n",
    "# TODO: REMOVE\n",
    "#energy_df = energy_df.agg(lambda x: x / (floor_sq * 1000000))\n",
    "energy_df = energy_df.drop(['KeyValue'], axis=1)"
   ]
  },
  {
   "cell_type": "markdown",
   "id": "ee4911b4-29dd-42d4-9c21-4d06d3c98bc5",
   "metadata": {},
   "source": [
    "## Data cleaning"
   ]
  },
  {
   "cell_type": "code",
   "execution_count": null,
   "id": "3e06aeae-cf00-4c60-9a1e-59a3c1dc63e6",
   "metadata": {},
   "outputs": [],
   "source": [
    "%%time\n",
    "# Clean the energy data\n",
    "energy_df = clean_data(energy_df)"
   ]
  },
  {
   "cell_type": "code",
   "execution_count": null,
   "id": "3af23ae3-6dc6-4f94-b127-3fb9c4d52e13",
   "metadata": {},
   "outputs": [],
   "source": [
    "energy_df = energy_df.reset_index(drop=True)\n",
    "# Change the dataframe from having all dates as columns to having\n",
    "# each current row contain an entry for each date"
   ]
  },
  {
   "cell_type": "code",
   "execution_count": null,
   "id": "833329f9-0bcf-4c35-8b85-e109ab12f187",
   "metadata": {},
   "outputs": [],
   "source": [
    "energy_df"
   ]
  },
  {
   "cell_type": "code",
   "execution_count": null,
   "id": "329c32cf-335b-483b-827d-75af09f1279b",
   "metadata": {},
   "outputs": [],
   "source": [
    "len(energy_df)"
   ]
  },
  {
   "cell_type": "code",
   "execution_count": null,
   "id": "d68b4ebc-bd24-494f-b3f4-f7e1520b51a1",
   "metadata": {},
   "outputs": [],
   "source": [
    "#en_copy = energy_df.copy()"
   ]
  },
  {
   "cell_type": "code",
   "execution_count": null,
   "id": "316f3c63-0ace-4828-ac4a-45517cf31fee",
   "metadata": {},
   "outputs": [],
   "source": [
    "#energy_df = en_copy[:1000]"
   ]
  },
  {
   "cell_type": "markdown",
   "id": "4c3c1f82-98bf-4304-8f1b-1aa2cb20aaed",
   "metadata": {},
   "source": [
    "## Merge building and energy data\n",
    "- Choose `start_date` and `end_date` for time series\n",
    "- Check data"
   ]
  },
  {
   "cell_type": "code",
   "execution_count": null,
   "id": "cfa72471-02b6-41aa-abde-57b72c40e557",
   "metadata": {},
   "outputs": [],
   "source": [
    "%%time\n",
    "# Note that this takes a long time to process\n",
    "energy_df = energy_df.melt(id_vars=['datapoint_id', 'Name'], var_name='Timestamp', value_name='energy')"
   ]
  },
  {
   "cell_type": "code",
   "execution_count": null,
   "id": "09ef297b-f2e5-44e1-9bed-dd58ffd2d9c1",
   "metadata": {},
   "outputs": [],
   "source": [
    "energy_df.head(2), energy_df.info()"
   ]
  },
  {
   "cell_type": "code",
   "execution_count": null,
   "id": "9995759a-391f-44cf-bace-a08b1ae0f3dd",
   "metadata": {},
   "outputs": [],
   "source": [
    "%%time\n",
    "energy_df['Timestamp']= pd.to_datetime(energy_df['Timestamp'])\n",
    "energy_df.info()"
   ]
  },
  {
   "cell_type": "code",
   "execution_count": null,
   "id": "6c2a630c-af2c-4885-a3d6-9586d81d4937",
   "metadata": {},
   "outputs": [],
   "source": [
    "start_date = energy_df.Timestamp[0]\n",
    "start_date"
   ]
  },
  {
   "cell_type": "code",
   "execution_count": null,
   "id": "6c312286-341b-40c5-896a-50dde43fecf9",
   "metadata": {},
   "outputs": [],
   "source": [
    "end_date = start_date + timedelta(days=7)\n",
    "end_date"
   ]
  },
  {
   "cell_type": "code",
   "execution_count": null,
   "id": "a230a484-49fc-4846-ad60-49167a9b15dc",
   "metadata": {},
   "outputs": [],
   "source": [
    "dates = pd.date_range(start=start_date, end=end_date, freq='1h', inclusive='left')\n",
    "dates"
   ]
  },
  {
   "cell_type": "code",
   "execution_count": null,
   "id": "3ac28b21-4c4d-4858-9066-5fde7aed0581",
   "metadata": {},
   "outputs": [],
   "source": [
    "%%time\n",
    "energy_in_df = energy_df[energy_df['Timestamp'].isin(dates)]\n",
    "energy_in_df"
   ]
  },
  {
   "cell_type": "code",
   "execution_count": null,
   "id": "ae9cb960-5bbc-4672-887d-cf6201b15dc1",
   "metadata": {},
   "outputs": [],
   "source": [
    "%%time\n",
    "# Merge gas and electricity rows together\n",
    "energy_in_df = pd.merge(energy_in_df.loc[(energy_in_df['Name'] == \"ElectricityNet:Facility\")],\n",
    "                     energy_in_df.loc[(energy_in_df['Name'] == \"NaturalGas:Facility\")],\n",
    "                     on=['datapoint_id', 'Timestamp'],\n",
    "                     how='outer',\n",
    "                     suffixes=['_elec', '_gas'])"
   ]
  },
  {
   "cell_type": "code",
   "execution_count": null,
   "id": "de9a5fe1-f9d0-4e30-acfd-936a340b9033",
   "metadata": {},
   "outputs": [],
   "source": [
    "%%time\n",
    "# Remove unused column names\n",
    "energy_in_df = energy_in_df.drop([\"Name_elec\", \"Name_gas\"], axis='columns', errors='ignore')"
   ]
  },
  {
   "cell_type": "code",
   "execution_count": null,
   "id": "d439e515-28c0-4509-b58f-86da741f6e0b",
   "metadata": {},
   "outputs": [],
   "source": [
    "%%time    \n",
    "# Replace blank values with 0 (ex: when there is electricity but no gas)\n",
    "energy_in_df = energy_in_df.replace(np.nan, 0.0)"
   ]
  },
  {
   "cell_type": "code",
   "execution_count": null,
   "id": "3b0cb70b-663f-450e-ad68-af60958b09f1",
   "metadata": {},
   "outputs": [],
   "source": [
    "%%time\n",
    "# Also track the total energy usage\n",
    "energy_in_df['energy'] = energy_in_df['energy_elec'] + energy_in_df['energy_gas']"
   ]
  },
  {
   "cell_type": "code",
   "execution_count": null,
   "id": "abe66d69-0646-4596-9718-a2ad8e1e2c3b",
   "metadata": {},
   "outputs": [],
   "source": [
    "energy_in_df.describe()"
   ]
  },
  {
   "cell_type": "code",
   "execution_count": null,
   "id": "2f77be9a-a98c-43a0-aa7c-d83e87018c14",
   "metadata": {},
   "outputs": [],
   "source": [
    "energy_in_df.head(-5)"
   ]
  },
  {
   "cell_type": "code",
   "execution_count": null,
   "id": "0e959c71-e51a-4657-9c0d-3972be731c54",
   "metadata": {},
   "outputs": [],
   "source": [
    "nrg_unique_ids = energy_in_df.datapoint_id.unique()\n",
    "print(len(nrg_unique_ids))"
   ]
  },
  {
   "cell_type": "code",
   "execution_count": null,
   "id": "eaeb5522-37c2-43a2-9105-1e3fc72e119e",
   "metadata": {},
   "outputs": [],
   "source": [
    "btap_unique_ids = btap_df[\":datapoint_id\"].unique()\n",
    "print(len(btap_unique_ids))"
   ]
  },
  {
   "cell_type": "code",
   "execution_count": null,
   "id": "279a8e33-4b6c-4d5d-8b2e-2340df3d9c91",
   "metadata": {},
   "outputs": [],
   "source": [
    "btap_unique_ids"
   ]
  },
  {
   "cell_type": "code",
   "execution_count": null,
   "id": "244fc6f6-b8eb-4683-b3dd-9a913a0c274e",
   "metadata": {},
   "outputs": [],
   "source": []
  },
  {
   "cell_type": "code",
   "execution_count": null,
   "id": "fa24c682-751f-4b77-ab31-40bd61e095f6",
   "metadata": {},
   "outputs": [],
   "source": [
    "btap_in_df = btap_df.loc[btap_df[':datapoint_id'].isin(nrg_unique_ids)]"
   ]
  },
  {
   "cell_type": "code",
   "execution_count": null,
   "id": "26bbcaeb-237a-4cf8-afb8-462e8d49dc1e",
   "metadata": {},
   "outputs": [],
   "source": [
    "btap_in_df = btap_in_df.set_index(':datapoint_id')"
   ]
  },
  {
   "cell_type": "code",
   "execution_count": null,
   "id": "ae77482d-a1ac-4ae4-a2da-7f5fc8d11348",
   "metadata": {},
   "outputs": [],
   "source": [
    "btap_in_df = btap_in_df.reindex(index=nrg_unique_ids)"
   ]
  },
  {
   "cell_type": "code",
   "execution_count": null,
   "id": "e25fd172-1369-44b3-ae8b-8bc6888c40e6",
   "metadata": {},
   "outputs": [],
   "source": [
    "btap_in_df = btap_in_df.reset_index()"
   ]
  },
  {
   "cell_type": "code",
   "execution_count": null,
   "id": "b5ab808f-a006-476d-b356-1404712c23dd",
   "metadata": {},
   "outputs": [],
   "source": [
    "btap_in_df[':datapoint_id']"
   ]
  },
  {
   "cell_type": "code",
   "execution_count": null,
   "id": "c0c2a234-f795-4837-be0a-ac2f3f4daba3",
   "metadata": {},
   "outputs": [],
   "source": [
    "nrg_unique_ids"
   ]
  },
  {
   "cell_type": "code",
   "execution_count": null,
   "id": "4f90d8dc-134c-4951-9d36-7d6895cc9e42",
   "metadata": {},
   "outputs": [],
   "source": [
    "# Sanity check #1\n",
    "btap_in_df[':datapoint_id'].equals(pd.Series(nrg_unique_ids))"
   ]
  },
  {
   "cell_type": "code",
   "execution_count": null,
   "id": "aef52403-4aba-4279-a88c-6277603c6768",
   "metadata": {},
   "outputs": [],
   "source": [
    "energy_in_df[\"datapoint_id\"]"
   ]
  },
  {
   "cell_type": "code",
   "execution_count": null,
   "id": "a8dd2a7c-de92-40da-b55f-406cbd3637a2",
   "metadata": {},
   "outputs": [],
   "source": [
    "energy_in_df.isna()"
   ]
  },
  {
   "cell_type": "code",
   "execution_count": null,
   "id": "d7786442-7d4a-4a00-a8aa-b14794c04605",
   "metadata": {},
   "outputs": [],
   "source": [
    "btap_in_df.columns"
   ]
  },
  {
   "cell_type": "code",
   "execution_count": null,
   "id": "575a4793-af33-450f-88e3-45bbf3133867",
   "metadata": {},
   "outputs": [],
   "source": [
    "ignore_cols = pd.read_csv(\"costing_columns_to_ignore.txt\", header=None)[0].values.tolist()"
   ]
  },
  {
   "cell_type": "code",
   "execution_count": null,
   "id": "01943b98-2349-48d5-af4a-e8accf3d36de",
   "metadata": {},
   "outputs": [],
   "source": [
    "if \":datapoint_id\" in ignore_cols:\n",
    "    ignore_cols.remove(\":datapoint_id\")"
   ]
  },
  {
   "cell_type": "code",
   "execution_count": null,
   "id": "5c8f5041-6051-49c9-b102-bbbafbfd8012",
   "metadata": {},
   "outputs": [],
   "source": [
    "btap_in_df = btap_in_df.drop(columns=ignore_cols, errors='ignore')"
   ]
  },
  {
   "cell_type": "code",
   "execution_count": null,
   "id": "c70ffcbd-9837-4adc-8231-42536f6a7485",
   "metadata": {},
   "outputs": [],
   "source": [
    "btap_in_df"
   ]
  },
  {
   "cell_type": "code",
   "execution_count": null,
   "id": "440d47a0-43f8-4963-999f-0e305081c86c",
   "metadata": {},
   "outputs": [],
   "source": [
    "btap_in_df.isnull().sum().sum()"
   ]
  },
  {
   "cell_type": "code",
   "execution_count": null,
   "id": "582eb817-a2df-4102-ade2-dd7b31d18131",
   "metadata": {},
   "outputs": [],
   "source": [
    "#here"
   ]
  },
  {
   "cell_type": "code",
   "execution_count": null,
   "id": "76ce8c5b-e8e7-41db-9dbb-5cabba95e81b",
   "metadata": {},
   "outputs": [],
   "source": []
  },
  {
   "cell_type": "code",
   "execution_count": null,
   "id": "be2116fa-a101-4ed6-8d6e-47113c4c3220",
   "metadata": {},
   "outputs": [],
   "source": [
    "energy_in_sdv_df = energy_in_df.sort_values(by=['datapoint_id', 'Timestamp']).reset_index(drop=True).drop(columns=['energy'])"
   ]
  },
  {
   "cell_type": "code",
   "execution_count": null,
   "id": "793e1450-29c9-49cc-9e89-7151f419b17e",
   "metadata": {},
   "outputs": [],
   "source": [
    "energy_in_sdv_df"
   ]
  },
  {
   "cell_type": "code",
   "execution_count": null,
   "id": "a381797b-c90b-46d7-95b4-cdc8849a771e",
   "metadata": {},
   "outputs": [],
   "source": [
    "btap_in_df = btap_in_df.sort_values(by=[':datapoint_id']).reset_index(drop=True)"
   ]
  },
  {
   "cell_type": "code",
   "execution_count": null,
   "id": "c541ac99-e98c-4e72-a201-1cd05484db3e",
   "metadata": {},
   "outputs": [],
   "source": [
    "%%time\n",
    "# time series and static values together\n",
    "data_in_df = pd.merge(energy_in_sdv_df,\n",
    "                      btap_in_df,\n",
    "                      left_on=['datapoint_id'],\n",
    "                      right_on=[':datapoint_id'],\n",
    "                      how='left').drop(\":datapoint_id\", axis=1).reset_index(drop=True)"
   ]
  },
  {
   "cell_type": "code",
   "execution_count": null,
   "id": "fbae0700-6ef6-4e79-8858-4ea93d40cfdd",
   "metadata": {},
   "outputs": [],
   "source": [
    "data_in_df = data_in_df[data_in_df.columns[:-1]]"
   ]
  },
  {
   "cell_type": "code",
   "execution_count": null,
   "id": "c8b32d68-f999-496f-99a4-1c629b5bd3cb",
   "metadata": {},
   "outputs": [],
   "source": [
    "data_in_df"
   ]
  },
  {
   "cell_type": "markdown",
   "id": "a78b0e63-4e48-4aec-877a-f6a5b87e0f8e",
   "metadata": {},
   "source": [
    "## Manipulate data to conform SDV data flow"
   ]
  },
  {
   "cell_type": "code",
   "execution_count": null,
   "id": "a5c0acc1-9056-4d4b-8991-c7e2c38174e4",
   "metadata": {},
   "outputs": [],
   "source": [
    "%%time\n",
    "for col, dt in data_in_df.dtypes[4:].items():\n",
    "    if dt == \"float64\" or dt == \"int64\":\n",
    "        if len(data_in_df[col].unique()) < 30:\n",
    "            data_in_df[col] = data_in_df[[col]].astype(str)"
   ]
  },
  {
   "cell_type": "code",
   "execution_count": null,
   "id": "c3d87774-794d-4710-966f-19c5709ab19f",
   "metadata": {},
   "outputs": [],
   "source": [
    "#data_in_df[\":ext_roof_cond\"].unique()"
   ]
  },
  {
   "cell_type": "code",
   "execution_count": null,
   "id": "d31ca0cc-9cbf-490a-b5b7-1760eca01b19",
   "metadata": {},
   "outputs": [],
   "source": [
    "data_in_df.dtypes"
   ]
  },
  {
   "cell_type": "code",
   "execution_count": null,
   "id": "d3dc022e-81ad-4ccb-97d3-9149f96d90b0",
   "metadata": {},
   "outputs": [],
   "source": [
    "#data_in_df[\":ext_wall_cond\"] = data_in_df[[\":ext_wall_cond\"]].astype(str)"
   ]
  },
  {
   "cell_type": "code",
   "execution_count": null,
   "id": "92c87d31-bdb6-49b2-af58-0fc81551cb0d",
   "metadata": {},
   "outputs": [],
   "source": [
    "data_in_df.to_csv(\"real_data_sdv.csv\")"
   ]
  },
  {
   "cell_type": "code",
   "execution_count": null,
   "id": "15f4a170-1d20-47d6-8fbc-305a06f20165",
   "metadata": {},
   "outputs": [],
   "source": [
    "import sdv.metadata"
   ]
  },
  {
   "cell_type": "code",
   "execution_count": null,
   "id": "446514ff-4461-473e-b065-428a4643fb06",
   "metadata": {},
   "outputs": [],
   "source": [
    "metadata = sdv.metadata.SingleTableMetadata()"
   ]
  },
  {
   "cell_type": "code",
   "execution_count": null,
   "id": "fe58e5bb-95ce-4c2a-b75c-2fcf39c14928",
   "metadata": {},
   "outputs": [],
   "source": [
    "metadata.detect_from_dataframe(data_in_df)"
   ]
  },
  {
   "cell_type": "code",
   "execution_count": null,
   "id": "00728eab-9f63-4b37-ba55-1121c56bbfd9",
   "metadata": {},
   "outputs": [],
   "source": [
    "metadata.visualize()"
   ]
  },
  {
   "cell_type": "code",
   "execution_count": null,
   "id": "faf24abc-fe22-4cf7-9b4b-261758627774",
   "metadata": {},
   "outputs": [],
   "source": [
    "metadata.update_column(column_name='datapoint_id', sdtype='id')"
   ]
  },
  {
   "cell_type": "code",
   "execution_count": null,
   "id": "d63ce912-93c6-4108-92a4-a9f820745f02",
   "metadata": {},
   "outputs": [],
   "source": [
    "metadata.set_sequence_key(column_name='datapoint_id')"
   ]
  },
  {
   "cell_type": "code",
   "execution_count": null,
   "id": "0e82217c-fd40-4345-b731-b2bcfcd4627d",
   "metadata": {},
   "outputs": [],
   "source": [
    "metadata.set_sequence_index(column_name='Timestamp')"
   ]
  },
  {
   "cell_type": "code",
   "execution_count": null,
   "id": "052dbc69-7865-44e0-89e8-df6c08b34a2c",
   "metadata": {},
   "outputs": [],
   "source": [
    "#metadata.update_column(column_name=':ext_wall_cond', sdtype='categorical')"
   ]
  },
  {
   "cell_type": "code",
   "execution_count": null,
   "id": "187deb59-e443-4754-9b7a-0b5f33ba799c",
   "metadata": {},
   "outputs": [],
   "source": [
    "metadata.visualize()"
   ]
  },
  {
   "cell_type": "code",
   "execution_count": null,
   "id": "72ce8722-5f71-479b-b614-db0e5dbb242e",
   "metadata": {},
   "outputs": [],
   "source": [
    "from sdv.sequential import PARSynthesizer"
   ]
  },
  {
   "cell_type": "code",
   "execution_count": null,
   "id": "56da6c57-fabf-4363-a094-5a4cf0611f8d",
   "metadata": {},
   "outputs": [],
   "source": []
  },
  {
   "cell_type": "code",
   "execution_count": null,
   "id": "789ca15a-94aa-4af9-9983-3d3176815c8b",
   "metadata": {},
   "outputs": [],
   "source": [
    "context_cols = list(set(data_in_df.columns)-set(['datapoint_id', 'Timestamp', 'energy_elec', 'energy_gas']))\n",
    "#-set([':datapoint_id', 'datapoint_id', 'Timestamp', 'energy_elec', 'energy_gas', 'Total Energy', 'bldg_conditioned_floor_area_m_sq']))"
   ]
  },
  {
   "cell_type": "code",
   "execution_count": null,
   "id": "29585ba8-a4e4-470e-9edf-62bcdda2e1fb",
   "metadata": {},
   "outputs": [],
   "source": [
    "context_cols"
   ]
  },
  {
   "cell_type": "markdown",
   "id": "e18b3145-6b0b-4669-9390-efd8864d4c37",
   "metadata": {},
   "source": [
    "## Fit synthesizer"
   ]
  },
  {
   "cell_type": "code",
   "execution_count": null,
   "id": "6355041f-f73e-4ff6-affe-cd64ee6db18a",
   "metadata": {},
   "outputs": [],
   "source": [
    "synthesizer = PARSynthesizer(\n",
    "    metadata,\n",
    "    context_columns=context_cols,\n",
    "    verbose=True,\n",
    "    epochs=64)#128"
   ]
  },
  {
   "cell_type": "code",
   "execution_count": null,
   "id": "97e84718-961f-4b20-8d08-3eec8f61b09b",
   "metadata": {},
   "outputs": [],
   "source": [
    "#8Gb of RAM\n",
    "#2.5Gb of VRAM"
   ]
  },
  {
   "cell_type": "code",
   "execution_count": null,
   "id": "f53b7845-9545-4183-8456-e979e11bff11",
   "metadata": {},
   "outputs": [],
   "source": [
    "%%time\n",
    "synthesizer.fit(data_in_df)"
   ]
  },
  {
   "cell_type": "markdown",
   "id": "063fa6f8-b960-42f8-9e47-6cd8cc6c9a00",
   "metadata": {},
   "source": [
    "## Sample SD and save model"
   ]
  },
  {
   "cell_type": "code",
   "execution_count": null,
   "id": "84e1e15f-ef55-44b5-ad3c-c382786ed476",
   "metadata": {},
   "outputs": [],
   "source": [
    "%%time\n",
    "synthetic_data = synthesizer.sample(num_sequences=4000)"
   ]
  },
  {
   "cell_type": "code",
   "execution_count": null,
   "id": "9f3dc380-b250-440a-9903-811e35108423",
   "metadata": {},
   "outputs": [],
   "source": [
    "synthetic_data.head()"
   ]
  },
  {
   "cell_type": "code",
   "execution_count": null,
   "id": "19f93e20-458c-411f-be3b-e366f2369f37",
   "metadata": {},
   "outputs": [],
   "source": [
    "synthetic_data.describe()"
   ]
  },
  {
   "cell_type": "code",
   "execution_count": null,
   "id": "61d849da-c162-4f42-8d17-e20cd88fca0a",
   "metadata": {},
   "outputs": [],
   "source": [
    "data_in_df.describe()"
   ]
  },
  {
   "cell_type": "code",
   "execution_count": null,
   "id": "6b44b5f0-d554-4141-a4c1-703f1e30a76d",
   "metadata": {},
   "outputs": [],
   "source": [
    "synthesizer.save('quick_test_PAR_full_cols.pkl')"
   ]
  },
  {
   "cell_type": "code",
   "execution_count": null,
   "id": "98f60065-548e-4e47-838f-9d5f084f8ce5",
   "metadata": {},
   "outputs": [],
   "source": [
    "from sdmetrics.timeseries import LSTMDetection"
   ]
  },
  {
   "cell_type": "code",
   "execution_count": null,
   "id": "b8ccfe7f-0466-4789-b2e7-635cfc775ea0",
   "metadata": {},
   "outputs": [],
   "source": [
    "LSTMDetection.compute(\n",
    "    real_data=data_in_df,\n",
    "    synthetic_data=synthetic_data,\n",
    "    metadata=metadata\n",
    ")"
   ]
  },
  {
   "cell_type": "code",
   "execution_count": null,
   "id": "de0cae97-e31e-4b23-a3be-d7bbfb988dce",
   "metadata": {},
   "outputs": [],
   "source": []
  }
 ],
 "metadata": {
  "kernelspec": {
   "display_name": "Python 3 (ipykernel)",
   "language": "python",
   "name": "python3"
  },
  "language_info": {
   "codemirror_mode": {
    "name": "ipython",
    "version": 3
   },
   "file_extension": ".py",
   "mimetype": "text/x-python",
   "name": "python",
   "nbconvert_exporter": "python",
   "pygments_lexer": "ipython3",
   "version": "3.10.12"
  }
 },
 "nbformat": 4,
 "nbformat_minor": 5
}
