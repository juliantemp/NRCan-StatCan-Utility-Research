{
 "cells": [
  {
   "cell_type": "markdown",
   "id": "2c661ac3-36bd-4660-bbab-9b44c9624dd2",
   "metadata": {},
   "source": [
    "# Synthcity tabular models training\n",
    "\n",
    "#### For static data\n",
    "\n",
    "We use synthcity Benchmarks to select the best two models and generate SD."
   ]
  },
  {
   "cell_type": "code",
   "execution_count": null,
   "id": "6f4ab03a-cc10-4488-af13-daef9007e144",
   "metadata": {},
   "outputs": [],
   "source": [
    "# sometimes we have to purge the workspace to avoid errors\n",
    "!rm -rf workspace"
   ]
  },
  {
   "cell_type": "code",
   "execution_count": null,
   "id": "e2d4adbf-102c-45f5-8b47-01b41f2da10f",
   "metadata": {},
   "outputs": [],
   "source": [
    "# stdlib\n",
    "import sys\n",
    "import warnings\n",
    "\n",
    "warnings.filterwarnings(\"ignore\")\n",
    "\n",
    "from datetime import datetime, timedelta\n",
    "\n",
    "import numpy as np\n",
    "import pandas as pd\n",
    "\n",
    "# synthcity absolute\n",
    "import synthcity.logger as log\n",
    "from synthcity.plugins import Plugins\n",
    "from synthcity.plugins.core.dataloader import GenericDataLoader\n",
    "from synthcity.benchmark import Benchmarks\n",
    "from synthcity.utils.serialization import load, load_from_file, save, save_to_file\n",
    "\n",
    "log.add(sink=sys.stderr, level=\"INFO\")"
   ]
  },
  {
   "cell_type": "markdown",
   "id": "b90b70f1-4431-4300-80fc-b375ae6445ee",
   "metadata": {},
   "source": [
    "### Inputs\n",
    "- Number of days or datafilename\n",
    "- Epochs\n",
    "- Peaks (number of max and min values of the time series)\n",
    "- Size of sampled synthetic data\n",
    "- Real data file name\n",
    "- Generators"
   ]
  },
  {
   "cell_type": "code",
   "execution_count": null,
   "id": "d46bdbf0-1748-489c-8102-f93dc552d739",
   "metadata": {},
   "outputs": [],
   "source": [
    "days = 1\n",
    "data_dir = \"../\"\n",
    "epochs = 128\n",
    "peaks = 1\n",
    "sample_size = None\n",
    "datafilename = None"
   ]
  },
  {
   "cell_type": "code",
   "execution_count": null,
   "id": "57c19e0a-bb93-4268-9315-2ec7ca4fc1e8",
   "metadata": {},
   "outputs": [],
   "source": [
    "# uncomment the models to test\n",
    "generators = ['marginal_distributions',\n",
    "              # 'aim',\n",
    "              # 'bayesian_network',\n",
    "              # 'privbayes',\n",
    "              'adsgan',\n",
    "              # 'pategan',\n",
    "              'ctgan',\n",
    "              # 'tvae',\n",
    "              # 'rtvae',\n",
    "              # 'nflow',\n",
    "              # 'goggle',\n",
    "              'ddpm',\n",
    "              # 'arfpy',\n",
    "              # 'great',\n",
    "              # 'dpgan'\n",
    "             ]"
   ]
  },
  {
   "cell_type": "markdown",
   "id": "72a57ce4-67e4-4345-a981-29a895c7c5a7",
   "metadata": {},
   "source": [
    "### Read real data"
   ]
  },
  {
   "cell_type": "code",
   "execution_count": null,
   "id": "8034877b-1549-43f0-8f61-05107716fa26",
   "metadata": {},
   "outputs": [],
   "source": [
    "if datafilename:\n",
    "    real_data = pd.read_csv(datafilename, index_col=0)    \n",
    "else:\n",
    "    real_data = pd.read_csv(f\"{data_dir}real_data_sdv_{days}_days.csv\", index_col=0)\n",
    "\n",
    "if not sample_size:\n",
    "    sample_size = len(real_data.datapoint_id.unique())"
   ]
  },
  {
   "cell_type": "code",
   "execution_count": null,
   "id": "23b2195b-dcc0-43f0-948b-813c3cf2006e",
   "metadata": {},
   "outputs": [],
   "source": [
    "real_data"
   ]
  },
  {
   "cell_type": "markdown",
   "id": "df1ce0b1-849c-4e29-89c0-2edb407318e7",
   "metadata": {},
   "source": [
    "### Add peaks and valleys\n",
    "\n",
    "Find max and min on the time series and add it to the static columns, discarding time series data"
   ]
  },
  {
   "cell_type": "code",
   "execution_count": null,
   "id": "03288f6a-7392-45c7-98a1-00b5ff34e6f1",
   "metadata": {},
   "outputs": [],
   "source": [
    "def pick_peaks(df, count=1):\n",
    "    \"\"\" Select max and min values for each time series and add it to a dataframe along with the timestamp\n",
    "\n",
    "    Parameters\n",
    "    ----------\n",
    "    df : pd.DataFrame\n",
    "        Input dataframe with static and time series values.\n",
    "    count : int\n",
    "        The number of max and min values to grab.\n",
    "\n",
    "    Returns\n",
    "    -------\n",
    "    pd.DataFrame\n",
    "        DataFrame with static features and mins and maxes with timestamps\n",
    "    \"\"\"\n",
    "    # get static features\n",
    "    static_df = df.drop(columns=[\"Timestamp\", \"energy_elec\", \"energy_gas\"]).drop_duplicates().reset_index(drop=True)\n",
    "\n",
    "    # get timeseries for each utility\n",
    "    group_timeseries_elec = df[[\"datapoint_id\", \"Timestamp\", \"energy_elec\"]].groupby('datapoint_id', sort=False)\n",
    "    group_timeseries_gas = df[[\"datapoint_id\", \"Timestamp\", \"energy_gas\"]].groupby('datapoint_id', sort=False)\n",
    "\n",
    "    # emaxmins ={f\"temax{i}\": [] for i in range(count)} | {f\"emax{i}\": [] for i in range(count)} |\\\n",
    "    #           {f\"temin{i}\": [] for i in range(count)} | {f\"emin{i}\": [] for i in range(count)}\n",
    "    \n",
    "    # create a dict to store maxes and mins, change this to adjust for a particular order\n",
    "    emaxmins = {}\n",
    "    for i in range(count):\n",
    "            emaxmins[f\"temax_{i}\"] = []\n",
    "            emaxmins[f\"emax_{i}\"] = []\n",
    "            emaxmins[f\"temin_{i}\"] = []\n",
    "            emaxmins[f\"emin_{i}\"] = []\n",
    "    \n",
    "    for t in group_timeseries_elec.groups:\n",
    "        df_ts = group_timeseries_elec.get_group(t)[[\"Timestamp\", \"energy_elec\"]]\n",
    "        ts = df_ts.energy_elec\n",
    "        # locate mins and maxes and append it to emaxmins dict\n",
    "        for i in range(count):\n",
    "            imaxv, maxv = ts.idxmax(), ts.max()\n",
    "            iminv, minv = ts.idxmin(), ts.min()\n",
    "            max_ts = df_ts.loc[imaxv, \"Timestamp\"]\n",
    "            min_ts = df_ts.loc[iminv, \"Timestamp\"]\n",
    "            emaxmins[f\"temax_{i}\"].append(max_ts)\n",
    "            emaxmins[f\"emax_{i}\"].append(maxv)\n",
    "            emaxmins[f\"temin_{i}\"].append(min_ts)\n",
    "            emaxmins[f\"emin_{i}\"].append(minv)\n",
    "            ts = ts.drop(imaxv)\n",
    "            ts = ts.drop(iminv)\n",
    "\n",
    "    # create a new dataframe with mins and maxes and their timestamp\n",
    "    edfp = pd.DataFrame(emaxmins)\n",
    "\n",
    "    # create a dict to store maxes and mins, change this to adjust for a particular order\n",
    "    gmaxmins = {}\n",
    "    for i in range(count):\n",
    "            gmaxmins[f\"tgmax_{i}\"] = []\n",
    "            gmaxmins[f\"gmax_{i}\"] = []\n",
    "            gmaxmins[f\"tgmin_{i}\"] = []\n",
    "            gmaxmins[f\"gmin_{i}\"] = []\n",
    "    \n",
    "    for t in group_timeseries_gas.groups:\n",
    "        df_ts = group_timeseries_gas.get_group(t)[[\"Timestamp\", \"energy_gas\"]]#.reset_index(drop=True)\n",
    "        ts = df_ts.energy_gas\n",
    "\n",
    "        # Note 1: dont look for minmax if timeseries is flat or zero\n",
    "        # often there is no gas measurements\n",
    "        # Note 2: this doesnt handle all cases, this assumes that if there is a gas measurement\n",
    "        # then there are measurements for each hour.\n",
    "        # Note 3: mins and maxes for gas contributes to sparsity given that a lot of \n",
    "        # buildings do not have gas consumption.\n",
    "        if len(ts.unique()) > 2:\n",
    "            for i in range(count):\n",
    "                imaxv, maxv = ts.idxmax(), ts.max()\n",
    "                iminv, minv = ts.idxmin(), ts.min()\n",
    "                max_ts = df_ts.loc[imaxv, \"Timestamp\"]\n",
    "                min_ts = df_ts.loc[iminv, \"Timestamp\"]\n",
    "                gmaxmins[f\"tgmax_{i}\"].append(max_ts)\n",
    "                gmaxmins[f\"gmax_{i}\"].append(maxv)\n",
    "                gmaxmins[f\"tgmin_{i}\"].append(min_ts)\n",
    "                gmaxmins[f\"gmin_{i}\"].append(minv)\n",
    "                ts = ts.drop(imaxv)\n",
    "                ts = ts.drop(iminv)\n",
    "        else:\n",
    "            for i in range(count):\n",
    "                gmaxmins[f\"tgmax_{i}\"].append(str(datetime.strptime(\"2000-01-01 00:00:00\", '%Y-%m-%d %H:%M:%S')))\n",
    "                gmaxmins[f\"gmax_{i}\"].append(0)\n",
    "                gmaxmins[f\"tgmin_{i}\"].append(str(datetime.strptime(\"2000-01-01 00:00:00\", '%Y-%m-%d %H:%M:%S')))\n",
    "                gmaxmins[f\"gmin_{i}\"].append(0)\n",
    "            \n",
    "    \n",
    "    gdfp = pd.DataFrame(gmaxmins)\n",
    "\n",
    "    # concatenate static_df with min and maxes dataframes\n",
    "    df_ = pd.concat([static_df, edfp, gdfp], axis=1)\n",
    "\n",
    "    # Quick validation, the static emax0 values should be the same as computing\n",
    "    # the max of each time series.\n",
    "    # TODO: Validation needs to be done for all cases.\n",
    "    if not np.allclose(df_.emax_0.unique(), df[[\"datapoint_id\",\"energy_elec\"]].groupby('datapoint_id', sort=False).max().values.flatten()):\n",
    "       raise ValueError(\"Max of time series mismatch\")\n",
    "        \n",
    "    # let's reorder the columns\n",
    "    cols = list(df_.columns)\n",
    "    lencs = len(cols)\n",
    "    print(f\"Columns in {len(df.columns)}, columns out {lencs}\")\n",
    "    #return df_, edfp\n",
    "    if lencs != len(df.columns) + 8*count - 3:\n",
    "        raise ValueError(\"Input / output columns mismatch\")\n",
    "    \n",
    "    return df_[cols[0:1]+cols[-8*count:]+cols[1:lencs-8*count]]\n"
   ]
  },
  {
   "cell_type": "code",
   "execution_count": null,
   "id": "d4065c27-77bc-4b94-adc8-7750177988cc",
   "metadata": {},
   "outputs": [],
   "source": [
    "%%time\n",
    "real_data = pick_peaks(real_data, peaks)"
   ]
  },
  {
   "cell_type": "code",
   "execution_count": null,
   "id": "db2c5145-95e5-4a48-8c4c-6a301a00a81f",
   "metadata": {},
   "outputs": [],
   "source": [
    "real_data"
   ]
  },
  {
   "cell_type": "code",
   "execution_count": null,
   "id": "aa45609e-572f-405a-831e-8b97f7cab9d5",
   "metadata": {},
   "outputs": [],
   "source": [
    "real_data.to_csv(f\"real_data_synthcity_{days}_days_{peaks}_peaks_tabular.csv\")"
   ]
  },
  {
   "cell_type": "markdown",
   "id": "53c37df3-5567-441a-8ace-e32d99751961",
   "metadata": {},
   "source": [
    "## Model benchmarking and selection"
   ]
  },
  {
   "cell_type": "code",
   "execution_count": null,
   "id": "ad534d0b-1ef6-48e8-8f96-69c8cc3a5452",
   "metadata": {},
   "outputs": [],
   "source": [
    "loader = GenericDataLoader(real_data)"
   ]
  },
  {
   "cell_type": "code",
   "execution_count": null,
   "id": "0ec64bb2-63c6-4a0c-9ffb-579faba5f299",
   "metadata": {},
   "outputs": [],
   "source": [
    "# all metrics, we may want to select the model using stats metrics first\n",
    "metrics = {\n",
    "    #'sanity': ['data_mismatch', 'common_rows_proportion', 'nearest_syn_neighbor_distance', 'close_values_probability', 'distant_values_probability'],\n",
    "    'stats': ['jensenshannon_dist', 'chi_squared_test', 'feature_corr', 'inv_kl_divergence', 'ks_test', 'max_mean_discrepancy', 'wasserstein_dist', 'prdc', 'alpha_precision'],\n",
    "    #'performance': ['linear_model', 'mlp', 'xgb', 'feat_rank_distance'],\n",
    "    #'detection': ['detection_xgb', 'detection_mlp', 'detection_gmm', 'detection_linear'],\n",
    "    #'privacy': ['delta-presence', 'k-anonymization', 'k-map', 'distinct l-diversity', 'identifiability_score', 'DomiasMIA_BNAF', 'DomiasMIA_KDE', 'DomiasMIA_prior']\n",
    "}"
   ]
  },
  {
   "cell_type": "code",
   "execution_count": null,
   "id": "7c36e07a-abff-4fb2-8aff-d4979951d631",
   "metadata": {},
   "outputs": [],
   "source": [
    "plugin_kwargs = {model:{} for model in generators}"
   ]
  },
  {
   "cell_type": "code",
   "execution_count": null,
   "id": "cef44ff7-f47f-4db6-87bf-9633b6db55c4",
   "metadata": {},
   "outputs": [],
   "source": [
    "# WARNING for testing set epochs to 100 for each model, comment this for a full test\n",
    "# using default parameters\n",
    "plugin_kwargs['ctgan'] = {\"n_iter\": 100}\n",
    "plugin_kwargs['adsgan'] = {\"n_iter\": 100}\n",
    "plugin_kwargs['ddpm'] = {\"n_iter\": 100}\n",
    "plugin_kwargs"
   ]
  },
  {
   "cell_type": "code",
   "execution_count": null,
   "id": "5b6ae443-afc4-4031-a0ab-baf3d97aa45d",
   "metadata": {},
   "outputs": [],
   "source": [
    "%%time\n",
    "score = Benchmarks.evaluate(\n",
    "    [(model, model, plugin_kwargs[model]) for model in generators],\n",
    "    loader,\n",
    "    synthetic_size=len(real_data),\n",
    "    repeats=1,\n",
    "    metrics=metrics,\n",
    "    use_metric_cache=False\n",
    ")"
   ]
  },
  {
   "cell_type": "code",
   "execution_count": null,
   "id": "c3e19a98-aa4b-43d6-a99a-e5a1c527f0e8",
   "metadata": {},
   "outputs": [],
   "source": [
    "Benchmarks.print(score)"
   ]
  },
  {
   "cell_type": "code",
   "execution_count": null,
   "id": "2c91abb8-ed86-437e-b2b7-220814b083e3",
   "metadata": {},
   "outputs": [],
   "source": [
    "means = []\n",
    "for model in generators:\n",
    "    mean = score[model][\"mean\"]\n",
    "    means.append(mean)"
   ]
  },
  {
   "cell_type": "code",
   "execution_count": null,
   "id": "f1d53fb8-62e5-4298-bcf5-35ce623a1070",
   "metadata": {},
   "outputs": [],
   "source": [
    "results = pd.concat(means, axis=1)\n",
    "results.columns = [model for model in generators]\n",
    "results"
   ]
  },
  {
   "cell_type": "code",
   "execution_count": null,
   "id": "073fa7f4-e21d-437c-b269-a0268ec635e3",
   "metadata": {},
   "outputs": [],
   "source": [
    "# WARNING let's pick the jensenshannon to select the best model (we can change this criteria)\n",
    "# minimum value is the best\n",
    "# jensenshannon is the first metric\n",
    "metric = results.index[0]\n",
    "metric"
   ]
  },
  {
   "cell_type": "code",
   "execution_count": null,
   "id": "162fb18d-b71a-41c4-b8b2-95ef7173f3c9",
   "metadata": {},
   "outputs": [],
   "source": [
    "results.iloc[0].sort_values(ascending=True)"
   ]
  },
  {
   "cell_type": "code",
   "execution_count": null,
   "id": "30de331a-da7c-41a4-a309-0f9cdbd17b6b",
   "metadata": {},
   "outputs": [],
   "source": [
    "best_generator = results.iloc[0].sort_values(ascending=True).index[0]\n",
    "best_generator"
   ]
  },
  {
   "cell_type": "code",
   "execution_count": null,
   "id": "58372246-3377-4e1a-a19f-2f1e46f54137",
   "metadata": {},
   "outputs": [],
   "source": [
    "best_two = results.iloc[0].sort_values(ascending=True).index[0:2].to_list()\n",
    "best_two"
   ]
  },
  {
   "cell_type": "markdown",
   "id": "84ff9414-6cd4-4e0a-8460-a1b01053e633",
   "metadata": {},
   "source": [
    "## Retrain models and sample SD"
   ]
  },
  {
   "cell_type": "code",
   "execution_count": null,
   "id": "26330f02-c989-4c5b-9084-0dd8a812d581",
   "metadata": {},
   "outputs": [],
   "source": [
    "%%time\n",
    "for model in best_two:\n",
    "    syn_model = Plugins().get(model)\n",
    "    print(f\"Fit and sampling {model}\")\n",
    "    # FIXME forcing plugins to use previous n_iter \n",
    "    syn_model.n_iter = plugin_kwargs[model]['n_iter']\n",
    "    syn_model.fit(loader)#, plugin_kwargs[model])\n",
    "    save_to_file(f\"model_{model}_synthcity_{days}_days_{peaks}_peaks_tabular.pkl\", syn_model)\n",
    "    synthetic_data = syn_model.generate().dataframe()\n",
    "    print(synthetic_data.head(5))\n",
    "    synthetic_data.to_csv(f\"synthetic_data_synthcity_{days}_days_{peaks}_peaks_tabular.csv\")\n",
    "    "
   ]
  },
  {
   "cell_type": "markdown",
   "id": "6fb5c88b-213b-4541-82e1-be368bdd8a4c",
   "metadata": {},
   "source": [
    "## Done!"
   ]
  }
 ],
 "metadata": {
  "kernelspec": {
   "display_name": "Python 3 (ipykernel)",
   "language": "python",
   "name": "python3"
  },
  "language_info": {
   "codemirror_mode": {
    "name": "ipython",
    "version": 3
   },
   "file_extension": ".py",
   "mimetype": "text/x-python",
   "name": "python",
   "nbconvert_exporter": "python",
   "pygments_lexer": "ipython3",
   "version": "3.10.12"
  }
 },
 "nbformat": 4,
 "nbformat_minor": 5
}
