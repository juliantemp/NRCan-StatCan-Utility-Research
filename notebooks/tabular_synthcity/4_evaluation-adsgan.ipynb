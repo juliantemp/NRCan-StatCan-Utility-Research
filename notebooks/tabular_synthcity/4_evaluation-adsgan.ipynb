{
 "cells": [
  {
   "cell_type": "markdown",
   "id": "b0cdf4ac-dec2-42c3-bd3b-eb597e339816",
   "metadata": {},
   "source": [
    "# Evaluation Tabular Generators"
   ]
  },
  {
   "cell_type": "code",
   "execution_count": null,
   "id": "54dacee5-793a-4906-af02-407107c534ed",
   "metadata": {},
   "outputs": [],
   "source": [
    "# sometimes we have to purge the workspace to avoid errors\n",
    "!rm -rf workspace"
   ]
  },
  {
   "cell_type": "code",
   "execution_count": null,
   "id": "49a57a07-a67c-4de6-ae9b-0091fa8b8bcb",
   "metadata": {},
   "outputs": [],
   "source": [
    "# stdlib\n",
    "import sys\n",
    "import warnings\n",
    "\n",
    "warnings.filterwarnings(\"ignore\")\n",
    "\n",
    "from datetime import datetime, timedelta\n",
    "\n",
    "import numpy as np\n",
    "import pandas as pd\n",
    "\n",
    "# synthcity absolute\n",
    "import synthcity.logger as log\n",
    "from synthcity import metrics\n",
    "from synthcity.plugins import Plugins\n",
    "from synthcity.plugins.core.dataloader import GenericDataLoader\n",
    "from synthcity.benchmark import Benchmarks\n",
    "from synthcity.utils.serialization import load, load_from_file, save, save_to_file\n",
    "\n",
    "\n",
    "log.add(sink=sys.stderr, level=\"INFO\")"
   ]
  },
  {
   "cell_type": "code",
   "execution_count": null,
   "id": "e1b33006-1b16-4635-99d2-9454ccb8b4bc",
   "metadata": {},
   "outputs": [],
   "source": [
    "from sklearn.preprocessing import OrdinalEncoder\n",
    "from sklearn.compose import make_column_transformer\n",
    "from sklearn.compose import make_column_selector"
   ]
  },
  {
   "cell_type": "code",
   "execution_count": null,
   "id": "bab23fe5-8293-447d-8921-ff9d493db1ad",
   "metadata": {},
   "outputs": [],
   "source": [
    "import matplotlib.pyplot as plt\n",
    "import seaborn as sns\n",
    "from synthcity.metrics.plots import plot_marginal_comparison, plot_tsne"
   ]
  },
  {
   "cell_type": "markdown",
   "id": "127dd915-9af3-4e20-98e0-d99fad314924",
   "metadata": {},
   "source": [
    "## Inputs"
   ]
  },
  {
   "cell_type": "code",
   "execution_count": null,
   "id": "c6c1bcd8-538a-40ff-88f9-504be7d45d87",
   "metadata": {},
   "outputs": [],
   "source": [
    "peaks = 1\n",
    "n_iter = 10 # WARNING change this\n",
    "# it should be 4000 but it takes 35 minutes on a GPU\n",
    "num_seq = 4000\n",
    "days = 1\n",
    "# real data dir\n",
    "data_dir = \"../\"\n",
    "# generate_tsne\n",
    "generate_tsne = False\n",
    "generator = \"adsgan\""
   ]
  },
  {
   "cell_type": "code",
   "execution_count": null,
   "id": "a6efe4a0-8fc6-4ca3-9ecc-cf26c15b3458",
   "metadata": {},
   "outputs": [],
   "source": [
    "rd_filename = f\"real_data_synthcity_{days}_days_{peaks}_peaks_tabular.csv\"\n",
    "sd_filename = f\"synthetic_data_synthcity_{days}_days_{peaks}_peaks_tabular_opt.csv\"\n",
    "model_filename = f\"model_{generator}_synthcity_{days}_days_{peaks}_peaks_tabular.pkl\""
   ]
  },
  {
   "cell_type": "markdown",
   "id": "2922cb8e-e9dc-4a14-8512-f3a67cbe1e13",
   "metadata": {},
   "source": [
    "### Load real data and instantiate the dataloader"
   ]
  },
  {
   "cell_type": "code",
   "execution_count": null,
   "id": "34f08467-85f2-4488-b78b-22c0e0188158",
   "metadata": {},
   "outputs": [],
   "source": [
    "real_data = pd.read_csv(rd_filename, index_col=0)"
   ]
  },
  {
   "cell_type": "code",
   "execution_count": null,
   "id": "c5cd4257-4c23-45e7-8cb5-24badae2ea79",
   "metadata": {},
   "outputs": [],
   "source": [
    "real_data.head(3)"
   ]
  },
  {
   "cell_type": "code",
   "execution_count": null,
   "id": "b4fb30ac-886a-45f7-b154-42bd262c2bfb",
   "metadata": {},
   "outputs": [],
   "source": [
    "synthetic_data = pd.read_csv(sd_filename, index_col=0)"
   ]
  },
  {
   "cell_type": "code",
   "execution_count": null,
   "id": "7aa6864c-1f9c-4f6d-9459-6fa350087f1f",
   "metadata": {},
   "outputs": [],
   "source": [
    "synthetic_data.head(3)"
   ]
  },
  {
   "cell_type": "code",
   "execution_count": null,
   "id": "54eda35d-5a77-46bb-b16c-4793496beb37",
   "metadata": {},
   "outputs": [],
   "source": [
    "loader = GenericDataLoader(real_data)"
   ]
  },
  {
   "cell_type": "markdown",
   "id": "ccf5b7e5-744c-4e4d-838b-8145eafa201c",
   "metadata": {},
   "source": [
    "### Load the saved model"
   ]
  },
  {
   "cell_type": "code",
   "execution_count": null,
   "id": "a2fa2e96-5354-4637-8b1e-0f5137c048d1",
   "metadata": {},
   "outputs": [],
   "source": [
    "syn_model = load_from_file(model_filename)"
   ]
  },
  {
   "cell_type": "code",
   "execution_count": null,
   "id": "ed20b19b-16d8-4200-8b71-0fd03dfe2dc5",
   "metadata": {},
   "outputs": [],
   "source": [
    "real_data[\":dcv_type\"].hist()"
   ]
  },
  {
   "cell_type": "code",
   "execution_count": null,
   "id": "15123462-68eb-4605-8ce8-5af403eb1467",
   "metadata": {},
   "outputs": [],
   "source": [
    "synthetic_data[\":dcv_type\"].hist()"
   ]
  },
  {
   "cell_type": "markdown",
   "id": "15294d64-4aa8-4794-b753-53b407ea63c2",
   "metadata": {},
   "source": [
    "## Evaluation\n"
   ]
  },
  {
   "cell_type": "code",
   "execution_count": null,
   "id": "69bacea0-d9a2-4079-8241-4816d8a1527a",
   "metadata": {},
   "outputs": [],
   "source": [
    "metrics_dict = {\n",
    "    'sanity': ['data_mismatch', 'common_rows_proportion', 'nearest_syn_neighbor_distance', 'close_values_probability', 'distant_values_probability'],\n",
    "    'stats': ['jensenshannon_dist', 'chi_squared_test', 'feature_corr', 'inv_kl_divergence', 'ks_test', 'max_mean_discrepancy', 'wasserstein_dist', 'prdc', 'alpha_precision'],\n",
    "    # these do not make sense\n",
    "    #'performance': ['linear_model', 'mlp', 'xgb', 'feat_rank_distance'],\n",
    "    #'detection': ['detection_xgb', 'detection_mlp', 'detection_gmm', 'detection_linear'],\n",
    "    # this takes a long time to run\n",
    "    'privacy': ['delta-presence', 'k-anonymization', 'k-map', 'distinct l-diversity', 'identifiability_score']\n",
    "}"
   ]
  },
  {
   "cell_type": "code",
   "execution_count": null,
   "id": "5c99b9c1-391b-4e08-800d-e4d74c8d357c",
   "metadata": {},
   "outputs": [],
   "source": [
    "%%time\n",
    "scores = []\n",
    "for k, v in metrics_dict.items():\n",
    "    print(f\"{k} metrics\")\n",
    "    score = metrics.Metrics.evaluate(real_data, synthetic_data, metrics={k: v})\n",
    "    scores.append(score)\n",
    "    #print(score)"
   ]
  },
  {
   "cell_type": "markdown",
   "id": "79dcfbbe-44e2-444b-9c00-bd369e0be76f",
   "metadata": {},
   "source": [
    "### Synthcity can compare several batches of generated SD and output statistics from the metrics for each evaluation. Here we only care about generating metrics for one batch.\n",
    "\n",
    "Thus in the `scores` dictionary the key `mean` has a different meaning, it reflects the value of the metric. All other keys can be discarded."
   ]
  },
  {
   "cell_type": "code",
   "execution_count": null,
   "id": "fde214c6-6607-43a7-9f96-acb3b5deedfa",
   "metadata": {},
   "outputs": [],
   "source": [
    "scores[0][['mean']]"
   ]
  },
  {
   "cell_type": "code",
   "execution_count": null,
   "id": "5c6c09d0-af3b-496c-b946-6aff133fe5b1",
   "metadata": {},
   "outputs": [],
   "source": [
    "scores[1][['mean']]"
   ]
  },
  {
   "cell_type": "code",
   "execution_count": null,
   "id": "116f7c86-9f07-4987-b613-dcbd0d3dac5a",
   "metadata": {},
   "outputs": [],
   "source": [
    "scores[2][['mean']]"
   ]
  },
  {
   "cell_type": "markdown",
   "id": "89be90ed-e230-42cc-83c3-5b56aa748a63",
   "metadata": {},
   "source": [
    "## Plots\n",
    "\n",
    "- Distributions\n",
    "- tSNE\n",
    "- Peaks and valleys"
   ]
  },
  {
   "cell_type": "code",
   "execution_count": null,
   "id": "eab1ee88-97ee-47a9-91c8-8f1c1e6e524c",
   "metadata": {},
   "outputs": [],
   "source": [
    "#real_data.dtypes"
   ]
  },
  {
   "cell_type": "code",
   "execution_count": null,
   "id": "6cd8f1b6-f624-44e9-864a-9a8631885681",
   "metadata": {},
   "outputs": [],
   "source": [
    "static_data = real_data.copy()"
   ]
  },
  {
   "cell_type": "code",
   "execution_count": null,
   "id": "a3ac658b-39a4-459a-9212-83e7d8d63176",
   "metadata": {},
   "outputs": [],
   "source": [
    "if not (static_data.dtypes == synthetic_data.dtypes).all():\n",
    "    raise(\"Types mismatch\")"
   ]
  },
  {
   "cell_type": "code",
   "execution_count": null,
   "id": "2f3ec578-d40b-472c-9315-d62a157dca42",
   "metadata": {},
   "outputs": [],
   "source": [
    "%%time\n",
    "for col, dt in static_data.dtypes.items():\n",
    "    if dt == \"float64\" or dt == \"int64\":\n",
    "        if len(static_data[col].unique()) < 30:\n",
    "            static_data[col] = static_data[[col]].astype(str)"
   ]
  },
  {
   "cell_type": "code",
   "execution_count": null,
   "id": "ec23746a-549c-4ced-ba42-3a3361fe8c57",
   "metadata": {},
   "outputs": [],
   "source": [
    "%%time\n",
    "for col, dt in synthetic_data.dtypes.items():\n",
    "    if dt == \"float64\" or dt == \"int64\":\n",
    "        if len(synthetic_data[col].unique()) < 30:\n",
    "            synthetic_data[col] = synthetic_data[[col]].astype(str)"
   ]
  },
  {
   "cell_type": "code",
   "execution_count": null,
   "id": "1f336e25-5541-4fd2-890a-7c01b23d3524",
   "metadata": {},
   "outputs": [],
   "source": [
    "from sklearn.preprocessing import MinMaxScaler"
   ]
  },
  {
   "cell_type": "code",
   "execution_count": null,
   "id": "51c76ec5-42df-43e1-ab1b-eccb1dd6e7ce",
   "metadata": {},
   "outputs": [],
   "source": [
    "def convert_to_gdloader(df, ct=None):\n",
    "    if not ct:\n",
    "        ct = make_column_transformer((OrdinalEncoder(), make_column_selector(dtype_include=\"object\")),\n",
    "                                     (OrdinalEncoder(), make_column_selector(dtype_include=\"string\")),\n",
    "                                     (\"passthrough\", make_column_selector(dtype_include=\"float64\")))\n",
    "\n",
    "    column_order = list(df.select_dtypes(include=[\"object\"]).columns) + list(df.select_dtypes(include=[\"string\"]).columns)\\\n",
    "                 + list(df.select_dtypes(include=[\"float64\"]).columns)\n",
    "    tr_df = pd.DataFrame(ct.fit_transform(df), index=df.index, columns=column_order)[df.columns]\n",
    "    \n",
    "    loader = GenericDataLoader(tr_df)\n",
    "\n",
    "    return loader, ct"
   ]
  },
  {
   "cell_type": "code",
   "execution_count": null,
   "id": "b56a9e69-0d7f-4c27-8cca-2fc59dd71986",
   "metadata": {},
   "outputs": [],
   "source": [
    "rd_loader, ct = convert_to_gdloader(static_data)"
   ]
  },
  {
   "cell_type": "code",
   "execution_count": null,
   "id": "36dc2985-311b-40eb-9170-43f6d786876a",
   "metadata": {},
   "outputs": [],
   "source": [
    "len(rd_loader.static_features)"
   ]
  },
  {
   "cell_type": "code",
   "execution_count": null,
   "id": "1bab08a0-f528-475a-afab-20ba3183c9c5",
   "metadata": {},
   "outputs": [],
   "source": [
    "sd_loader, _ = convert_to_gdloader(synthetic_data, ct)"
   ]
  },
  {
   "cell_type": "code",
   "execution_count": null,
   "id": "4b35b076-c6ee-464d-b777-8df1e483ae8d",
   "metadata": {},
   "outputs": [],
   "source": [
    "len(static_data.columns)"
   ]
  },
  {
   "cell_type": "code",
   "execution_count": null,
   "id": "a1c7737f-31fc-4e29-8967-82305647118f",
   "metadata": {},
   "outputs": [],
   "source": [
    "ct.transform(synthetic_data).shape"
   ]
  },
  {
   "cell_type": "code",
   "execution_count": null,
   "id": "8aa47f78-b4e9-4518-b131-fbc99134c5ca",
   "metadata": {},
   "outputs": [],
   "source": [
    "if not (static_data.dtypes == synthetic_data.dtypes).all():\n",
    "    raise(\"Types mismatch\")"
   ]
  },
  {
   "cell_type": "code",
   "execution_count": null,
   "id": "335f0e9c-9c46-4315-aeaf-6112aa511cdb",
   "metadata": {},
   "outputs": [],
   "source": [
    "%%time\n",
    "plot_marginal_comparison(plt, rd_loader, sd_loader)"
   ]
  },
  {
   "cell_type": "code",
   "execution_count": null,
   "id": "9a1a2373-1d1c-40d8-bf2b-b9dc8ff9b1b9",
   "metadata": {},
   "outputs": [],
   "source": [
    "%%time\n",
    "if generate_tsne:\n",
    "    plot_tsne(plt, rd_loader, sd_loader)"
   ]
  },
  {
   "cell_type": "code",
   "execution_count": null,
   "id": "c417c173-2cb7-4401-8271-561d45f2ce7f",
   "metadata": {},
   "outputs": [],
   "source": [
    "static_data.head(3)"
   ]
  },
  {
   "cell_type": "code",
   "execution_count": null,
   "id": "8e5fa056-57e3-4c74-8e96-7623c9658038",
   "metadata": {},
   "outputs": [],
   "source": [
    "peak_df = static_data[[\"temax_0\", \"emax_0\", \"temin_0\", \"emin_0\", \"tgmax_0\", \"gmax_0\", \"tgmin_0\", \"gmin_0\"]].copy()"
   ]
  },
  {
   "cell_type": "code",
   "execution_count": null,
   "id": "efc3082e-a694-4336-bf51-6f8bb3d6bf29",
   "metadata": {},
   "outputs": [],
   "source": [
    "for tcol in [\"temax_0\", \"temin_0\", \"tgmax_0\", \"tgmin_0\"]:\n",
    "    peak_df[tcol] = peak_df[tcol].apply(lambda x: pd.to_datetime(x).hour)"
   ]
  },
  {
   "cell_type": "code",
   "execution_count": null,
   "id": "b49956fa-4739-476c-bd5c-5b355b2e563e",
   "metadata": {},
   "outputs": [],
   "source": [
    "rt = np.zeros((24, 4))\n",
    "for i, tcol in enumerate([\"temax_0\", \"temin_0\", \"tgmax_0\", \"tgmin_0\"]):\n",
    "    rt[peak_df[[tcol]].groupby(tcol).size().index.to_numpy(), i] = peak_df[[tcol]].groupby(tcol).size().to_numpy()\n",
    "rdf_ = pd.DataFrame(rt, columns=[\"emax_rd\", \"emin_rd\", \"gmax_rd\", \"gmin_rd\"])"
   ]
  },
  {
   "cell_type": "code",
   "execution_count": null,
   "id": "419bb0db-bd46-404e-8d78-18f058fe67ef",
   "metadata": {},
   "outputs": [],
   "source": [
    "sd_peak_df = synthetic_data[[\"temax_0\", \"emax_0\", \"temin_0\", \"emin_0\", \"tgmax_0\", \"gmax_0\", \"tgmin_0\", \"gmin_0\"]].copy()"
   ]
  },
  {
   "cell_type": "code",
   "execution_count": null,
   "id": "9ac66fc0-6119-4536-8885-75a448ab8450",
   "metadata": {},
   "outputs": [],
   "source": [
    "sd_peak_df"
   ]
  },
  {
   "cell_type": "code",
   "execution_count": null,
   "id": "0749db6e-4446-420c-a58b-81a2af222769",
   "metadata": {},
   "outputs": [],
   "source": [
    "for tcol in [\"temax_0\", \"temin_0\", \"tgmax_0\", \"tgmin_0\"]:\n",
    "    sd_peak_df[tcol] = sd_peak_df[tcol].apply(lambda x: pd.to_datetime(x).hour)"
   ]
  },
  {
   "cell_type": "code",
   "execution_count": null,
   "id": "48705821-f0e6-45bb-8606-abbdaacabfb9",
   "metadata": {},
   "outputs": [],
   "source": [
    "st = np.zeros((24, 4))\n",
    "for i, tcol in enumerate([\"temax_0\", \"temin_0\", \"tgmax_0\", \"tgmin_0\"]):\n",
    "    st[sd_peak_df[[tcol]].groupby(tcol).size().index.to_numpy(), i] = sd_peak_df[[tcol]].groupby(tcol).size().to_numpy()\n",
    "sdf_ = pd.DataFrame(st, columns=[\"emax_sd\", \"emin_sd\", \"gmax_sd\", \"gmin_sd\"])"
   ]
  },
  {
   "cell_type": "code",
   "execution_count": null,
   "id": "28a945bd-2161-4e90-9218-bc326d9412ef",
   "metadata": {},
   "outputs": [],
   "source": [
    "df = pd.concat([rdf_, sdf_], axis=1)"
   ]
  },
  {
   "cell_type": "code",
   "execution_count": null,
   "id": "176a3c69-c0ab-4133-b9e9-b7a278d15e34",
   "metadata": {},
   "outputs": [],
   "source": [
    "df.head()"
   ]
  },
  {
   "cell_type": "code",
   "execution_count": null,
   "id": "915a6570-1faa-45ec-b8e3-c27fbd3b1815",
   "metadata": {},
   "outputs": [],
   "source": [
    "df.sum()"
   ]
  },
  {
   "cell_type": "code",
   "execution_count": null,
   "id": "60b7cc29-2e9b-4275-bbdb-1d2d0db74a3f",
   "metadata": {},
   "outputs": [],
   "source": [
    "df[\"hour\"] = [str(i+1) for i in range(24)]\n",
    "df.set_index(\"hour\", inplace=True)"
   ]
  },
  {
   "cell_type": "code",
   "execution_count": null,
   "id": "888f47c4-2d38-486e-8b5e-03f40f6ba04b",
   "metadata": {},
   "outputs": [],
   "source": [
    "df"
   ]
  },
  {
   "cell_type": "code",
   "execution_count": null,
   "id": "eedae4f6-e9a1-4788-8b23-be30ac03ef7d",
   "metadata": {},
   "outputs": [],
   "source": [
    "edf = pd.melt(df[[\"emax_rd\", \"emax_sd\", \"emin_rd\", \"emin_sd\"]].reset_index(), id_vars='hour')\n",
    "edf = edf.rename(columns={\"hour\": \"hour of the day\", \"value\": \"counts\", \"variable\": \"legend\"})"
   ]
  },
  {
   "cell_type": "code",
   "execution_count": null,
   "id": "b78d07a8-8c8a-4cf5-9a8d-517e0812091b",
   "metadata": {},
   "outputs": [],
   "source": [
    "fig, ax  = plt.subplots(1, figsize=(14, 8))\n",
    "sns.barplot(x='hour of the day', y='counts', hue='legend', data=edf, fill=False, width=1, ax=ax)\n",
    "minor_ticks = np.arange(0, 23)+0.5\n",
    "ax.set_xticks(minor_ticks, minor=True)\n",
    "ax.grid(which='minor')\n",
    "#ax.axvline(0.5, color='k')"
   ]
  },
  {
   "cell_type": "code",
   "execution_count": null,
   "id": "c84dc20a-70f1-4a73-9889-cfa0da71dd50",
   "metadata": {},
   "outputs": [],
   "source": [
    "gdf = pd.melt(df[[\"gmax_rd\", \"gmax_sd\", \"gmin_rd\", \"gmin_sd\"]].reset_index(), id_vars='hour')\n",
    "gdf = gdf.rename(columns={\"hour\": \"hour of the day\", \"value\": \"counts\", \"variable\": \"legend\"})"
   ]
  },
  {
   "cell_type": "code",
   "execution_count": null,
   "id": "ea5d0449-139d-41aa-8a88-b1037662f280",
   "metadata": {},
   "outputs": [],
   "source": [
    "fig, ax  = plt.subplots(1, figsize=(14, 8))\n",
    "sns.barplot(x='hour of the day', y='counts', hue='legend', data=gdf, fill=False, width=1, ax=ax)\n",
    "minor_ticks = np.arange(0, 23)+0.5\n",
    "ax.set_xticks(minor_ticks, minor=True)\n",
    "ax.grid(which='minor')"
   ]
  },
  {
   "cell_type": "code",
   "execution_count": null,
   "id": "302fc9cc-9b3d-4efb-9a93-085573be3fb5",
   "metadata": {},
   "outputs": [],
   "source": [
    "def abs_error(rdv, sdv):\n",
    "    return np.absolute(np.subtract(rdv, sdv))"
   ]
  },
  {
   "cell_type": "code",
   "execution_count": null,
   "id": "5ded0e0b-4d59-4062-b76d-2568cd211329",
   "metadata": {},
   "outputs": [],
   "source": [
    "peaks_comparison_df = df.copy()"
   ]
  },
  {
   "cell_type": "code",
   "execution_count": null,
   "id": "ecd7b3f3-4d1d-4ee9-81a1-0b0dbd003de1",
   "metadata": {},
   "outputs": [],
   "source": [
    "peaks_comparison_df[\"emax_abs_err\"] =  abs_error(peaks_comparison_df[\"emax_rd\"], peaks_comparison_df[\"emax_sd\"])\n",
    "peaks_comparison_df[\"emin_abs_err\"] =  abs_error(peaks_comparison_df[\"emin_rd\"], peaks_comparison_df[\"emin_sd\"])\n",
    "peaks_comparison_df[\"gmax_abs_err\"] =  abs_error(peaks_comparison_df[\"gmax_rd\"], peaks_comparison_df[\"gmax_sd\"])\n",
    "peaks_comparison_df[\"gmin_abs_err\"] =  abs_error(peaks_comparison_df[\"gmin_rd\"], peaks_comparison_df[\"gmin_sd\"])"
   ]
  },
  {
   "cell_type": "code",
   "execution_count": null,
   "id": "209f43e6-b58d-4293-97e1-60b72f6c93f5",
   "metadata": {},
   "outputs": [],
   "source": [
    "peaks_comparison_df = peaks_comparison_df[[\"emax_abs_err\", \"emin_abs_err\", \"gmax_abs_err\", \"gmin_abs_err\"]].copy()"
   ]
  },
  {
   "cell_type": "code",
   "execution_count": null,
   "id": "40f3afe6-bba8-4cfc-85d6-0bb629f1496b",
   "metadata": {},
   "outputs": [],
   "source": [
    "peaks_comparison_df"
   ]
  },
  {
   "cell_type": "code",
   "execution_count": null,
   "id": "23fe795b-757d-4c7c-890c-906f29494c06",
   "metadata": {},
   "outputs": [],
   "source": [
    "pdf = pd.melt(peaks_comparison_df.reset_index(), id_vars='hour')\n",
    "pdf = pdf.rename(columns={\"hour\": \"hour of the day\", \"value\": \"absolute error\", \"variable\": \"legend\"})"
   ]
  },
  {
   "cell_type": "code",
   "execution_count": null,
   "id": "8ad29c6e-cfea-4ebc-adf3-a843343f28d7",
   "metadata": {},
   "outputs": [],
   "source": [
    "fig, ax  = plt.subplots(1, figsize=(14, 8))\n",
    "sns.barplot(x='hour of the day', y='absolute error', hue='legend', data=pdf, fill=False, width=1, ax=ax)\n",
    "major_ticks = np.arange(0, 23)+0.5\n",
    "ax.set_xticks(major_ticks, minor=True)\n",
    "ax.grid(which='minor')"
   ]
  },
  {
   "cell_type": "code",
   "execution_count": null,
   "id": "e7a71d6b-b86a-432e-882d-4637d78294ab",
   "metadata": {},
   "outputs": [],
   "source": [
    "peaks_comparison_df.sum()"
   ]
  },
  {
   "cell_type": "markdown",
   "id": "39b76bbd-310a-4337-8dd4-864c029b808b",
   "metadata": {},
   "source": [
    "# Done!!!"
   ]
  },
  {
   "cell_type": "code",
   "execution_count": null,
   "id": "2e319b72-c540-4c4b-b87c-91b661696c0f",
   "metadata": {},
   "outputs": [],
   "source": [
    "!date"
   ]
  },
  {
   "cell_type": "code",
   "execution_count": null,
   "id": "c63b2c56-4309-4b62-9a32-2435864f77be",
   "metadata": {},
   "outputs": [],
   "source": []
  }
 ],
 "metadata": {
  "kernelspec": {
   "display_name": "Python 3 (ipykernel)",
   "language": "python",
   "name": "python3"
  },
  "language_info": {
   "codemirror_mode": {
    "name": "ipython",
    "version": 3
   },
   "file_extension": ".py",
   "mimetype": "text/x-python",
   "name": "python",
   "nbconvert_exporter": "python",
   "pygments_lexer": "ipython3",
   "version": "3.10.12"
  }
 },
 "nbformat": 4,
 "nbformat_minor": 5
}
