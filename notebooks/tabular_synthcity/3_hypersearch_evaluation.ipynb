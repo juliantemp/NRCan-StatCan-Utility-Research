{
 "cells": [
  {
   "cell_type": "markdown",
   "id": "4acdaad4-84d3-4f51-8feb-3fb53c824b8d",
   "metadata": {},
   "source": [
    "# Hyperparameter search and evaluation"
   ]
  },
  {
   "cell_type": "code",
   "execution_count": null,
   "id": "8ae25361-af2e-42db-8303-5143b39a0c62",
   "metadata": {},
   "outputs": [],
   "source": [
    "# sometimes we have to purge the workspace to avoid errors\n",
    "!rm -rf workspace"
   ]
  },
  {
   "cell_type": "code",
   "execution_count": null,
   "id": "62297347-e265-4a6b-949e-ac7fb0383238",
   "metadata": {},
   "outputs": [],
   "source": [
    "# stdlib\n",
    "import sys\n",
    "import warnings\n",
    "\n",
    "warnings.filterwarnings(\"ignore\")\n",
    "\n",
    "from datetime import datetime, timedelta\n",
    "\n",
    "import numpy as np\n",
    "import pandas as pd\n",
    "\n",
    "import optuna\n",
    "\n",
    "# synthcity absolute\n",
    "import synthcity.logger as log\n",
    "from synthcity.plugins import Plugins\n",
    "from synthcity.plugins.core.dataloader import GenericDataLoader\n",
    "from synthcity.benchmark import Benchmarks\n",
    "from synthcity.utils.optuna_sample import suggest_all\n",
    "from synthcity.utils.serialization import load, load_from_file, save, save_to_file\n",
    "\n",
    "\n",
    "log.add(sink=sys.stderr, level=\"INFO\")"
   ]
  },
  {
   "cell_type": "code",
   "execution_count": null,
   "id": "0d8a6a39-f8dd-4d75-b383-1a9d89b4c9fc",
   "metadata": {},
   "outputs": [],
   "source": [
    "from sklearn.preprocessing import OrdinalEncoder\n",
    "from sklearn.compose import make_column_transformer\n",
    "from sklearn.compose import make_column_selector"
   ]
  },
  {
   "cell_type": "code",
   "execution_count": null,
   "id": "90a4e917-247e-4a85-a313-3ede871efb19",
   "metadata": {
    "scrolled": true
   },
   "outputs": [],
   "source": [
    "import matplotlib.pyplot as plt\n",
    "from synthcity.metrics.plots import plot_marginal_comparison, plot_tsne"
   ]
  },
  {
   "cell_type": "markdown",
   "id": "4c50c1fd-e9fa-4afd-b1b9-3c7f656cc463",
   "metadata": {},
   "source": [
    "## Optimization"
   ]
  },
  {
   "cell_type": "code",
   "execution_count": null,
   "id": "ce18cd64-a35c-4ad7-bf05-cf29c2a066fa",
   "metadata": {},
   "outputs": [],
   "source": [
    "peaks = 1\n",
    "n_iter = 2000 # WARNING change this\n",
    "# it should be 4000 but it takes 35 minutes on a GPU\n",
    "num_seq = 4000\n",
    "days = 1\n",
    "# real data dir\n",
    "data_dir = \"../\"\n",
    "# generate_tsne\n",
    "generate_tsne = False"
   ]
  },
  {
   "cell_type": "code",
   "execution_count": null,
   "id": "559328bf-32f7-4341-8f43-8adc7dab2323",
   "metadata": {},
   "outputs": [],
   "source": [
    "rd_filename = f\"real_data_synthcity_{days}_days_{peaks}_peaks_tabular.csv\"\n",
    "generator = \"adsgan\"\n",
    "model_filename = f\"model_{generator}_synthcity_{days}_days_{peaks}_peaks_tabular_opt.pkl\""
   ]
  },
  {
   "cell_type": "markdown",
   "id": "3147549c-21a3-44d0-80b4-88485dee4276",
   "metadata": {},
   "source": [
    "### Load real data and instantiate the dataloaders"
   ]
  },
  {
   "cell_type": "code",
   "execution_count": null,
   "id": "4f302062-49c3-4201-ae00-da32923a4d42",
   "metadata": {},
   "outputs": [],
   "source": [
    "real_data = pd.read_csv(rd_filename, index_col=0)"
   ]
  },
  {
   "cell_type": "code",
   "execution_count": null,
   "id": "45b16698-202e-4981-8358-09341c663a26",
   "metadata": {},
   "outputs": [],
   "source": [
    "loader = GenericDataLoader(real_data)"
   ]
  },
  {
   "cell_type": "code",
   "execution_count": null,
   "id": "1a797af3-26a5-4dd5-86d6-7b24c81189b6",
   "metadata": {},
   "outputs": [],
   "source": [
    "train_loader, test_loader = loader.train(), loader.test()"
   ]
  },
  {
   "cell_type": "markdown",
   "id": "9ecd9b9a-dee6-4b25-b7f0-eed6297edebd",
   "metadata": {},
   "source": [
    "### Load the generator"
   ]
  },
  {
   "cell_type": "code",
   "execution_count": null,
   "id": "654d793f-dfbe-4748-93a8-280a358a1352",
   "metadata": {},
   "outputs": [],
   "source": [
    "plugin_cls = type(Plugins().get(generator))\n",
    "plugin_cls"
   ]
  },
  {
   "cell_type": "markdown",
   "id": "550f1949-b44d-404b-8928-34550f86d078",
   "metadata": {},
   "source": [
    "### Display the hyperparameter space"
   ]
  },
  {
   "cell_type": "code",
   "execution_count": null,
   "id": "caeb89af-bccc-4b01-9b02-3b0b6e0f3034",
   "metadata": {},
   "outputs": [],
   "source": [
    "plugin_cls.hyperparameter_space()"
   ]
  },
  {
   "cell_type": "markdown",
   "id": "ad841237-b834-4e39-ab54-97e9567ea71b",
   "metadata": {},
   "source": [
    "### Set a trial"
   ]
  },
  {
   "cell_type": "code",
   "execution_count": null,
   "id": "a1d5bf62-cccb-45ed-b845-8dd11ee4a839",
   "metadata": {},
   "outputs": [],
   "source": [
    "trial = optuna.create_study().ask()\n",
    "params = suggest_all(trial, plugin_cls.hyperparameter_space())\n",
    "params['n_iter'] = n_iter\n",
    "params"
   ]
  },
  {
   "cell_type": "markdown",
   "id": "b76add6b-d3a9-4756-a3ae-671abab09f81",
   "metadata": {},
   "source": [
    "### Evaluate the generator"
   ]
  },
  {
   "cell_type": "code",
   "execution_count": null,
   "id": "0a0103b4-667b-4e85-8816-e5544d767e4d",
   "metadata": {},
   "outputs": [],
   "source": [
    "%%time\n",
    "plugin = plugin_cls(**params).fit(train_loader)\n",
    "report = Benchmarks.evaluate(\n",
    "    [(\"trial\", generator, params)],\n",
    "    train_loader,  # Benchmarks.evaluate will split out a validation set\n",
    "    repeats=1,\n",
    "    metrics={\"detection\": [\"detection_mlp\"]},  # DELETE THIS LINE FOR ALL METRICS\n",
    ")\n",
    "report['trial']"
   ]
  },
  {
   "cell_type": "code",
   "execution_count": null,
   "id": "7614231e-adc5-4573-99e5-2c6781394339",
   "metadata": {},
   "outputs": [],
   "source": []
  },
  {
   "cell_type": "code",
   "execution_count": null,
   "id": "7f65cfa9-d807-4fe2-b944-1f6c21d2c9d3",
   "metadata": {},
   "outputs": [],
   "source": [
    "def objective(trial: optuna.Trial):\n",
    "    hp_space = Plugins().get(generator).hyperparameter_space()\n",
    "    hp_space[0].high = 100  # speed up for now\n",
    "    params = suggest_all(trial, hp_space)\n",
    "    ID = f\"trial_{trial.number}\"\n",
    "    try:\n",
    "        report = Benchmarks.evaluate(\n",
    "            [(ID, generator, params)],\n",
    "            train_loader,\n",
    "            repeats=1,\n",
    "            metrics={\"detection\": [\"detection_mlp\"]},  # DELETE THIS LINE FOR ALL METRICS\n",
    "        )\n",
    "    except Exception as e:  # invalid set of params\n",
    "        print(f\"{type(e).__name__}: {e}\")\n",
    "        print(params)\n",
    "        raise optuna.TrialPruned()\n",
    "    score = report[ID].query('direction == \"minimize\"')['mean'].mean()\n",
    "    # average score across all metrics with direction=\"minimize\"\n",
    "    return score"
   ]
  },
  {
   "cell_type": "code",
   "execution_count": null,
   "id": "b2b0fd01-f81b-4e92-a154-c38c1fef9cb4",
   "metadata": {},
   "outputs": [],
   "source": [
    "%%time\n",
    "# WARNING CUDA out of memory\n",
    "try:\n",
    "    study = optuna.create_study(direction=\"minimize\")\n",
    "    study.optimize(objective, n_trials=2)\n",
    "    study.best_params\n",
    "except:\n",
    "    pass"
   ]
  },
  {
   "cell_type": "markdown",
   "id": "dc1b8d9a-d9e9-4944-b9cc-d2e41b8d5079",
   "metadata": {},
   "source": [
    "#### Visualize the study"
   ]
  },
  {
   "cell_type": "code",
   "execution_count": null,
   "id": "2c61e8a4-475c-4132-a65f-f9fd760469f3",
   "metadata": {},
   "outputs": [],
   "source": [
    "from optuna.visualization import plot_contour\n",
    "from optuna.visualization import plot_edf\n",
    "from optuna.visualization import plot_optimization_history\n",
    "from optuna.visualization import plot_parallel_coordinate\n",
    "from optuna.visualization import plot_param_importances\n",
    "from optuna.visualization import plot_slice\n",
    "\n",
    "plot_optimization_history(study)"
   ]
  },
  {
   "cell_type": "code",
   "execution_count": null,
   "id": "660b8f65-7618-4cf0-865f-c26b37c52008",
   "metadata": {},
   "outputs": [],
   "source": [
    "# Visualize high-dimensional parameter relationships. \n",
    "plot_parallel_coordinate(study)"
   ]
  },
  {
   "cell_type": "code",
   "execution_count": null,
   "id": "1417ac2c-291f-4ac7-bb9b-f9885d38f588",
   "metadata": {},
   "outputs": [],
   "source": [
    "# Visualize high-dimensional parameter relationships. \n",
    "plot_parallel_coordinate(study)"
   ]
  },
  {
   "cell_type": "code",
   "execution_count": null,
   "id": "7d44e8e7-9594-4afa-a6a1-711143444be7",
   "metadata": {},
   "outputs": [],
   "source": [
    "# Visualize individual hyperparameters as slice plot.\n",
    "plot_slice(study)"
   ]
  },
  {
   "cell_type": "code",
   "execution_count": null,
   "id": "d2a583ad-0655-47d8-8534-a7c58594eee9",
   "metadata": {},
   "outputs": [],
   "source": [
    "# Visualize parameter importances.\n",
    "plot_param_importances(study)"
   ]
  },
  {
   "cell_type": "code",
   "execution_count": null,
   "id": "46ddb68f-0075-40e2-9271-bd123f9015b0",
   "metadata": {},
   "outputs": [],
   "source": [
    "# Learn which hyperparameters are affecting the trial duration with hyperparameter importance.\n",
    "optuna.visualization.plot_param_importances(\n",
    "    study, target=lambda t: t.duration.total_seconds(), target_name=\"duration\"\n",
    ")"
   ]
  },
  {
   "cell_type": "code",
   "execution_count": null,
   "id": "e0992fc6-12cf-4e1a-8ef9-0c6b53291f9a",
   "metadata": {},
   "outputs": [],
   "source": [
    "# Visualize empirical distribution function of the objective.\n",
    "plot_edf(study)"
   ]
  },
  {
   "cell_type": "markdown",
   "id": "2fc03475-be77-4322-a642-b60e1c3c54c1",
   "metadata": {},
   "source": [
    "## Performance"
   ]
  },
  {
   "cell_type": "code",
   "execution_count": null,
   "id": "83dbc455-548e-4b1a-8c54-ea146ea93b92",
   "metadata": {},
   "outputs": [],
   "source": [
    "# FIXME OOM issue\n",
    "try: \n",
    "    best_params = study.best_params\n",
    "    report = Benchmarks.evaluate(\n",
    "        [(\"test\", generator, best_params)],\n",
    "        train_loader,\n",
    "        test_loader,\n",
    "        repeats=1,\n",
    "        metrics={\"detection\": [\"detection_mlp\", \"detection_xgb\"]},  # DELETE THIS LINE FOR ALL METRICS\n",
    "    )\n",
    "    Benchmarks.print(report)\n",
    "except:\n",
    "    pass"
   ]
  },
  {
   "cell_type": "markdown",
   "id": "20b3ca8a-6494-4417-8fb1-470e439d5015",
   "metadata": {},
   "source": [
    "## Fit and save model with best parameters"
   ]
  },
  {
   "cell_type": "code",
   "execution_count": null,
   "id": "8e8c961c-fd9a-47de-acf7-0d8218acdc36",
   "metadata": {},
   "outputs": [],
   "source": [
    "# delete this, just for testing because of the out of memory problem\n",
    "best_params = params\n",
    "best_params"
   ]
  },
  {
   "cell_type": "code",
   "execution_count": null,
   "id": "1f1cf760-fde8-4c0c-86d1-1e2aee210de0",
   "metadata": {},
   "outputs": [],
   "source": [
    "%%time\n",
    "syn_model = plugin_cls(**best_params).fit(loader)"
   ]
  },
  {
   "cell_type": "code",
   "execution_count": null,
   "id": "0682143d-b2f2-4877-aedf-89e114b8ad57",
   "metadata": {},
   "outputs": [],
   "source": [
    "save_to_file(model_filename, syn_model)"
   ]
  },
  {
   "cell_type": "code",
   "execution_count": null,
   "id": "0c08e085-8c40-442a-b848-3b824809bcec",
   "metadata": {},
   "outputs": [],
   "source": [
    "%%time\n",
    "synthetic_data = syn_model.generate().dataframe()"
   ]
  },
  {
   "cell_type": "code",
   "execution_count": null,
   "id": "b8c4194a-b2fb-4e4f-95ae-d2d9e6e73032",
   "metadata": {},
   "outputs": [],
   "source": [
    "synthetic_data.head(5)"
   ]
  },
  {
   "cell_type": "code",
   "execution_count": null,
   "id": "37030472-e6e9-4086-bbc1-367c83f7b23c",
   "metadata": {},
   "outputs": [],
   "source": [
    "synthetic_data.to_csv(f\"synthetic_data_synthcity_{days}_days_{peaks}_peaks_tabular_opt.csv\")"
   ]
  },
  {
   "cell_type": "markdown",
   "id": "f88b98e8-10fc-4d81-a38a-a690cf1126a1",
   "metadata": {},
   "source": [
    "## Plots"
   ]
  },
  {
   "cell_type": "code",
   "execution_count": null,
   "id": "70b4f8d4-0b5f-42a9-9de2-02a9c0d685a7",
   "metadata": {},
   "outputs": [],
   "source": [
    "def convert_to_dloaders(static_df, ct=None):\n",
    "    if not ct:\n",
    "        ct = make_column_transformer((OrdinalEncoder(), make_column_selector(dtype_include=\"object\")),\n",
    "                                     (\"passthrough\",make_column_selector(dtype_include=[\"float64\"])),\n",
    "                                     (\"passthrough\",make_column_selector(dtype_include=[\"int64\"])))\n",
    "\n",
    "    column_order = list(static_df.select_dtypes(include=[\"object\"]).columns) + list(static_df.select_dtypes(include=[\"float64\"]).columns)\\\n",
    "                   + list(static_df.select_dtypes(include=[\"int64\"]).columns) \n",
    "    tr_df = pd.DataFrame(ct.fit_transform(static_df), index=static_df.index, columns=column_order)[static_df.columns]\n",
    "\n",
    "    loader = GenericDataLoader(tr_df)\n",
    "    return loader, ct"
   ]
  },
  {
   "cell_type": "code",
   "execution_count": null,
   "id": "49e606f6-1841-4556-9fc3-dd9d8e645dfd",
   "metadata": {},
   "outputs": [],
   "source": [
    "%%time\n",
    "rd_loader, ct = convert_to_dloaders(real_data)"
   ]
  },
  {
   "cell_type": "code",
   "execution_count": null,
   "id": "ac09089f-2040-4dc0-a00c-32442e69142e",
   "metadata": {},
   "outputs": [],
   "source": [
    "%%time\n",
    "sd_loader, _ = convert_to_dloaders(synthetic_data, ct)"
   ]
  },
  {
   "cell_type": "code",
   "execution_count": null,
   "id": "4962c5a7-2763-4cdb-83ab-4a32fbf3c137",
   "metadata": {},
   "outputs": [],
   "source": [
    "%%time\n",
    "plot_marginal_comparison(plt, rd_loader, sd_loader)"
   ]
  },
  {
   "cell_type": "code",
   "execution_count": null,
   "id": "88968b85-f24c-4736-9562-5ca6ee75ab4d",
   "metadata": {},
   "outputs": [],
   "source": [
    "%%time\n",
    "if generate_tsne:\n",
    "    plot_tsne(plt, rd_loader, sd_loader)"
   ]
  },
  {
   "cell_type": "markdown",
   "id": "23980cd7-a955-488c-8f20-9e8c8b7cd015",
   "metadata": {},
   "source": [
    "## Done!"
   ]
  }
 ],
 "metadata": {
  "kernelspec": {
   "display_name": "Python 3 (ipykernel)",
   "language": "python",
   "name": "python3"
  },
  "language_info": {
   "codemirror_mode": {
    "name": "ipython",
    "version": 3
   },
   "file_extension": ".py",
   "mimetype": "text/x-python",
   "name": "python",
   "nbconvert_exporter": "python",
   "pygments_lexer": "ipython3",
   "version": "3.10.12"
  }
 },
 "nbformat": 4,
 "nbformat_minor": 5
}
